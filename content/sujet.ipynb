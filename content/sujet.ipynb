{
 "cells": [
  {
   "cell_type": "markdown",
   "metadata": {
    "tags": []
   },
   "source": [
    "# TP : Modélisation et résolution d'un problème de classification"
   ]
  },
  {
   "cell_type": "markdown",
   "metadata": {},
   "source": [
    "**Instructions générales:**\n",
    "\n",
    "- Je vous conseille de réaliser ce devoir avec `jupyter lab` et non pas `jupyter notebook`. La raison est que `jupyter notebook` a parfois du mal à afficher des images. Si vous ne voyez pas d'image de chat en Section **I.0**, c'est qu'il y a un problème.\n",
    "- Les dépendances nécessaires sont incluses dans le fichier `requirements.txt`.\n",
    "- Le devoir vous a été distribué sous la forme d'un dossier contenant un notebook et d'autres fichiers. Vous pouvez déplacer le dossier où vous voulez dans votre ordinateur, mais ne changez pas la structure de ce dossier : le notebook a besoin de ces fichiers auxiliaires pour fonctionner!\n",
    "- Certaines questions nécessitent de faire tourner un algorithme. Je vous recommande de ne pas faire tourner vos algorithmes plus qu'une trentaine de secondes (chez moi tout marche bien en moins d'une seconde)."
   ]
  },
  {
   "cell_type": "markdown",
   "metadata": {},
   "source": [
    "**Description du devoir:**\n",
    "\n",
    "- la partie **I** est une mise en bouche avec le problème.\n",
    "- la partie **II** porte sur un problème-jouet, et est celle où vous mettrez en valeur certaines des choses que vous avez appris en cours. Elle se décompose en trois sections **indépendantes**, qui proposent de résoudre le problème de trois manières différentes. Elles peuvent être traitées à des moments différents du cours:\n",
    "  - la partie **II.A** ne requiert aucune connaissance particulière du cours. Si vous voulez simplement vous amuser avec le sujet c'est par là!\n",
    "  - la partie **II.B** porte sur la dualité de Rockafellar (fin du chapitre 2). Elle vous demandera de faire des petits calculs de dualité à la main. C'est l'occasion de voir si vous avez compris les bases de ce chapitre!\n",
    "  - la partie **II.C** porte sur les méthodes d'éclatement, et nécéssite d'avoir vu la notion d'opérateur proximal (début du chapitre 3).\n",
    "- la partie **III** est une application à un problème de traitement de données, qui consiste à exploiter les résultats de la partie **II** sur un vrai problème. C'est là que vous montrerez si vous avez compris ce qui se passe dans la partie **II**."
   ]
  },
  {
   "cell_type": "code",
   "execution_count": 1,
   "metadata": {},
   "outputs": [],
   "source": [
    "# cette cellule importe les modules nécéssaires à ce TP. En cas d'erreur, vous devrez au préalable installer les modules manquants.\n",
    "import numpy\n",
    "import matplotlib\n",
    "import scipy\n",
    "import sklearn"
   ]
  },
  {
   "cell_type": "markdown",
   "metadata": {
    "tags": []
   },
   "source": [
    "# I. Introduction"
   ]
  },
  {
   "cell_type": "markdown",
   "metadata": {
    "tags": []
   },
   "source": [
    "## 0. Description générale du problème"
   ]
  },
  {
   "cell_type": "markdown",
   "metadata": {},
   "source": [
    "On suppose que l'on dispose d'un certain type de données, et on veut être capable de les **classer** en deux groupes. Ce type de problème peut être très facile à réaliser pour un humain, mais toute la question est de savoir comment automatiser cette prise de décision pour l'implémenter sur une machine.\n",
    "\n",
    "| Un problème simple de classification simple pour un humain | |\n",
    "|---|---|\n",
    "| ![](images/cat.jpg) | ![](images/dog.jpg) |\n",
    "| Type de données: photos | Classes possibles : Chat ou chien |\n",
    "\n",
    "L'objectif de ce TP est de vous montrer comment résoudre ce type problème (en tout cas lorsqu'il n'est pas trop difficile). Dans un premier temps vous vous familiariserez avec le sujet sur des données synthétiques, puis vous travaillerez ensuite avec de vraies données: des photos contenant des caractères écrits à la main."
   ]
  },
  {
   "cell_type": "markdown",
   "metadata": {},
   "source": [
    "**Présentation du problème**\n",
    "\n",
    "Une façon de modéliser ce problème est la suivante: on se retrouve face à une donnée $x \\in \\mathbb{R}^N$ et on veut lui attribuer une classe. Pour simplifier, lorsqu'on a un problème à deux classes comme dans les exemples ci-dessus, on dit souvent que les deux classes sont $\\{-1,+1\\}$. \n",
    "Par exemple $-1$ pourrait désigner \"chien\" et $1$ désignerait \"chat\".\n",
    "\n",
    "Ce que l'on souhaite donc implémenter est ce que l'on appelle un **classifieur**, c'est-à-dire une fonction $c : \\mathbb{R}^N \\longrightarrow \\{-1,+1\\}$ qui prend en entrée une donnée $x \\in \\mathbb{R}^N$, et qui donne en sortie une étiquette $\\pm 1$. Evidemment on ne va pas prendre n'importe quelle fonction $\\mathbb{R}^N \\longrightarrow \\{-1,+1\\}$, on veut que notre calssifieur fasse un \"bon\" travail en classant les données qu'on lui fournit.\n",
    "\n",
    "**Comment faire ça?**\n",
    "\n",
    "En pratique on suit le processus suivant: \n",
    "\n",
    "*1) Consititution d'une base de données*: on se procure\n",
    "\n",
    "- Une famille de données $\\{x_1, \\dots, x_m\\} \\subset \\mathbb{R}^N$ (par exemple tout un tas de photos de chats et de chiens)\n",
    "- La famille des étiquettes correspndantes $\\{y_1, \\dots, y_m\\} \\subset \\{ -1,+1\\}$, où chaque $y_i$ a été bien choisi par un humain\n",
    "\n",
    "Par exemple, en reprenant la convention ci-dessus, si $x_{47}$ est une photo de chien, alors $y_{47}=-1$ (rappelons que toute photo peut être vue comme un vecteur de $\\mathbb{R}^N$ où $N$ correspond au nombre de pixels de la photo).\n",
    "\n",
    "*2) La phase d'entraînement*: à partir de cette base de données, on va construire un classifieur $c : \\mathbb{R}^N \\longrightarrow \\{-1,+1\\}$, en demandant à ce que ce classifieur verifie, pour tout point de notre base de données, $c(x_i) = y_i$. Ainsi, on espère que si le classifieur fonctionne bien sur notre base de données, alors il fonctionnera également lorsqu'on lui présentera de nouvelles données.\n",
    "\n",
    "Ce TP se focalisera sur cette phase, le but étant de montrer que derrière ce problème se cache en fait un problème d'optimisation, que l'on va résoudre.\n",
    "\n",
    "*3) La phase de test*: Une fois que l'on aura trouvé notre classifieur, il faudra bien tester si il marche bien! Pour cela, on se constituera une nouvelle base de données $\\{(\\hat x_i,\\hat y_i)\\}$ similaire à celle mentionnée plus haut, et on regardera si l'étiquette prédite $c(\\hat x_i)$ est bien égale à $\\hat y_i$. On pourra par exemple compter le nombre de fois où le classifieur trouve la bonne réponse, et donc en déduire un pourcentage de succès estimé.\n",
    "\n",
    "**Rq:** Noter qu'en pratique on ne constitue pas deux bases de données. On construit une grosse base de données une fois pour toute, puis on la divise en deux parties: les données dites \"d'entrainement\" qui vont servir à construire le classifieur $c$, et d'autre part les données de \"test\" qui vont permettre d'évaluer si notre classifieur marche bien sur de nouvelles données.\n",
    "\n"
   ]
  },
  {
   "cell_type": "markdown",
   "metadata": {
    "tags": []
   },
   "source": [
    "## 1. Premier contact avec le problème"
   ]
  },
  {
   "cell_type": "code",
   "execution_count": 2,
   "metadata": {},
   "outputs": [],
   "source": [
    "import numpy as np\n",
    "import numpy.linalg as la\n",
    "import matplotlib.pyplot as plt"
   ]
  },
  {
   "cell_type": "markdown",
   "metadata": {},
   "source": [
    "**1)** On commence par importer des données"
   ]
  },
  {
   "cell_type": "code",
   "execution_count": 3,
   "metadata": {},
   "outputs": [],
   "source": [
    "X = np.load('data/donnees_entrainement.npy')"
   ]
  },
  {
   "cell_type": "markdown",
   "metadata": {},
   "source": [
    "Ces données correspondent à $m$ points de $\\mathbb{R}^2$, qui sont rangées dans une matrice à $m$ lignes et 2 colonnes.\n",
    "Chaque *ligne* de la matrice correspond donc à un point de $\\mathbb{R}^2$.\n",
    "Vous pouvez regarder quelle est la taille de la matrice avec la méthode `X.shape`, ce qui vous permettra de déterminer la valuer de $m$."
   ]
  },
  {
   "cell_type": "code",
   "execution_count": 4,
   "metadata": {},
   "outputs": [
    {
     "data": {
      "text/plain": [
       "(200, 2)"
      ]
     },
     "execution_count": 4,
     "metadata": {},
     "output_type": "execute_result"
    }
   ],
   "source": [
    "X.shape"
   ]
  },
  {
   "cell_type": "code",
   "execution_count": 5,
   "metadata": {},
   "outputs": [],
   "source": [
    "m = 200 # à definir"
   ]
  },
  {
   "cell_type": "markdown",
   "metadata": {},
   "source": [
    "Vu que nos données sont des points du plan, on va pouvoir facilement les visualiser avec la fonction `plt.scatter` de pyplot."
   ]
  },
  {
   "cell_type": "code",
   "execution_count": 6,
   "metadata": {},
   "outputs": [
    {
     "data": {
      "image/png": "[encoded data removed]",
      "text/plain": [
       "<Figure size 640x480 with 1 Axes>"
      ]
     },
     "metadata": {},
     "output_type": "display_data"
    }
   ],
   "source": [
    "couleur = [None]*m # liste vide de taille m\n",
    "for k in range(m):\n",
    "    couleur[k] = 'blue'\n",
    "_=plt.scatter(X[:, 0], X[:, 1], c=couleur)"
   ]
  },
  {
   "cell_type": "markdown",
   "metadata": {},
   "source": [
    "**2)** Vous devriez être maintenant convaincus que ce jeu de données contient deux groupes de points appartenant à des familles distinctes. Or nous n'en savons rien, à priori, le seul moyen d'en être sur est d'aller regarder les *etiquettes* correspondantes. Importons-les:"
   ]
  },
  {
   "cell_type": "code",
   "execution_count": 7,
   "metadata": {},
   "outputs": [],
   "source": [
    "Y = np.load('data/etiquettes_entrainement.npy')"
   ]
  },
  {
   "cell_type": "markdown",
   "metadata": {},
   "source": [
    "Vérifiez que ce vecteur ne contient que des étiquettes $\\pm 1$."
   ]
  },
  {
   "cell_type": "code",
   "execution_count": 8,
   "metadata": {},
   "outputs": [
    {
     "data": {
      "text/plain": [
       "array([ 1.,  1., -1., -1., -1.,  1., -1.,  1.,  1.,  1.,  1., -1., -1.,\n",
       "       -1.,  1., -1., -1.,  1.,  1., -1.,  1.,  1., -1., -1., -1.,  1.,\n",
       "       -1., -1.,  1., -1., -1.,  1., -1.,  1.,  1.,  1., -1., -1., -1.,\n",
       "       -1., -1.,  1.,  1., -1.,  1., -1.,  1., -1.,  1.,  1.,  1.,  1.,\n",
       "        1., -1.,  1.,  1.,  1.,  1., -1.,  1., -1.,  1., -1., -1., -1.,\n",
       "        1., -1., -1.,  1., -1.,  1., -1.,  1., -1.,  1., -1.,  1., -1.,\n",
       "       -1.,  1.,  1.,  1., -1., -1.,  1., -1.,  1.,  1.,  1.,  1., -1.,\n",
       "        1.,  1., -1., -1., -1., -1., -1., -1.,  1.,  1., -1., -1., -1.,\n",
       "        1.,  1.,  1., -1.,  1.,  1., -1., -1., -1., -1.,  1., -1., -1.,\n",
       "       -1.,  1.,  1.,  1.,  1.,  1., -1.,  1.,  1.,  1., -1.,  1., -1.,\n",
       "       -1.,  1.,  1., -1.,  1., -1., -1., -1., -1., -1., -1.,  1., -1.,\n",
       "       -1., -1., -1., -1.,  1.,  1.,  1.,  1., -1., -1.,  1.,  1., -1.,\n",
       "        1., -1., -1.,  1., -1.,  1., -1.,  1., -1., -1.,  1., -1., -1.,\n",
       "        1., -1., -1., -1.,  1.,  1., -1.,  1.,  1., -1.,  1., -1., -1.,\n",
       "        1.,  1., -1., -1.,  1., -1., -1.,  1.,  1., -1.,  1., -1.,  1.,\n",
       "        1., -1.,  1., -1., -1.])"
      ]
     },
     "execution_count": 8,
     "metadata": {},
     "output_type": "execute_result"
    }
   ],
   "source": [
    "Y"
   ]
  },
  {
   "cell_type": "markdown",
   "metadata": {},
   "source": [
    "En adaptant le code de la précédente question, affichez de nouveau ce nuage de points cette fois-ci avec deux couleurs: rouge pour les points avec l'étiquette $-1$, et bleu pour les points avec l'étiquette $+1$."
   ]
  },
  {
   "cell_type": "code",
   "execution_count": 9,
   "metadata": {},
   "outputs": [],
   "source": [
    "couleur = [None]*m\n",
    "for k in range(m):\n",
    "    if Y[k] == 1:\n",
    "        couleur[k] = 'blue'\n",
    "    else:\n",
    "        couleur[k] = 'red'"
   ]
  },
  {
   "cell_type": "code",
   "execution_count": 10,
   "metadata": {},
   "outputs": [
    {
     "data": {
      "image/png": "[encoded data removed]",
      "text/plain": [
       "<Figure size 640x480 with 1 Axes>"
      ]
     },
     "metadata": {},
     "output_type": "display_data"
    }
   ],
   "source": [
    "_=plt.scatter(X[:, 0], X[:, 1], c=couleur)"
   ]
  },
  {
   "cell_type": "markdown",
   "metadata": {},
   "source": [
    "**3)** Une approche intuitive pour classer ce problème consiste à tracer une droite qui va séparer ces deux nuages: ainsi fait, on pourra dire que tout nouveau point qui apparaitra d'un côté de la droite sera \"rouge\" et de l'autre les \"bleus\".\n",
    "\n",
    "Ici on va considérer une droite dans $\\mathbb{R}^2$ comme étant l'ensemble des points satisfaisant l'équation\n",
    "\n",
    "$$ D = \\{ x \\in \\mathbb{R}^2 \\ | \\ \\langle a, x \\rangle + b =0 \\},$$\n",
    "\n",
    "où $a \\in \\mathbb{R}^2$ et $b \\in \\mathbb{R}$ sont à choisir. On notera par la suite $w = (a_1, a_2 ,b) \\in \\mathbb{R}^2 \\times \\mathbb{R}$ le vecteur de paramètres décrivant la droite $D$.\n",
    "\n",
    "En utilisant le code ci-dessous, ajoutez le tracé d'une droite aux données, et jouez avec la valeur de $w$ pour essayer de trouver la droite qui sépare le mieux les deux classes."
   ]
  },
  {
   "cell_type": "code",
   "execution_count": 11,
   "metadata": {},
   "outputs": [],
   "source": [
    "def trace_droite(w):\n",
    "    # trace la droite des points x vérfiant l'équation <a,x>+b=0\n",
    "    # où w = (a_1, a_2, b)\n",
    "    a = w[0:2]\n",
    "    b = w[2]\n",
    "    if a[1] == 0:\n",
    "        alpha, beta = 0, 0\n",
    "    else:\n",
    "        alpha = -a[0]/a[1]\n",
    "        beta = -b/a[1]\n",
    "    abscisse = np.arange(-5,5,0.1)\n",
    "    ordonnee = alpha*abscisse + beta\n",
    "    plt.plot(abscisse, ordonnee)"
   ]
  },
  {
   "cell_type": "code",
   "execution_count": 12,
   "metadata": {},
   "outputs": [
    {
     "data": {
      "image/png": "[encoded data removed]",
      "text/plain": [
       "<Figure size 640x480 with 1 Axes>"
      ]
     },
     "metadata": {},
     "output_type": "display_data"
    }
   ],
   "source": [
    "w = np.array([1, 1, 0]) # à modifier\n",
    "trace_droite(w)\n",
    "_=plt.scatter(X[:, 0], X[:, 1], c=couleur)"
   ]
  },
  {
   "cell_type": "markdown",
   "metadata": {},
   "source": [
    "Pensez-vous que certaines droites sont meilleures que les autres?"
   ]
  },
  {
   "cell_type": "markdown",
   "metadata": {
    "tags": []
   },
   "source": [
    "## 2. Modélisation : trouver une droite séparatrice optimale"
   ]
  },
  {
   "cell_type": "markdown",
   "metadata": {
    "jp-MarkdownHeadingCollapsed": true,
    "tags": []
   },
   "source": [
    "Ici nous allons **modéliser** le problème : le formaliser sous la forme d'un problème mathématique, et plus précisément sous la forme d'un problème d'optimisation.\n",
    "\n",
    "On cherche à trouver un bon paramètre $w = (a,b)\\in \\mathbb{R}^2 \\times \\mathbb{R}$, qui va décrire une bonne droite d'équation $\\langle a,x \\rangle + b= 0$.\n",
    "Mais qu'est-ce qu'une *bonne* droite? \n",
    "\n",
    "|  | Choisir une bonne droite pour séparer les données | |\n",
    "|---|---|---|\n",
    "| ![](images/classif_neutral.png) | ![](images/classif_good.png) | ![](images/classif_bad.png) |\n",
    "| Un nouveau point apparaît | Quelle droite classifie le mieux ? |  |\n",
    "\n",
    "Au vu de la question précédente, on attend deux propriétés:\n",
    "\n",
    "- D'une part on veut clairement que la droite **sépare** bien les deux groupes de données.\n",
    "- D'autre part, on voudrait que la droite passe le **plus loin possible** des données. \n",
    "  - En effet, si un nouveau point vient à apparaitre on imagine qu'il va rester près d'un des deux nuages. Donc si la droite est loin des nuages, elle sera également loin de ce nouveau point, et on évitera le problème d'un point qui apparait trop près de la droite, en qui on n'aurait pas trop confiance.\n",
    "\n",
    "Nous allons maintenant exprimer ces deux propriétés."
   ]
  },
  {
   "cell_type": "markdown",
   "metadata": {
    "tags": []
   },
   "source": [
    "### a. Séparer les données"
   ]
  },
  {
   "cell_type": "markdown",
   "metadata": {},
   "source": [
    "\n",
    "\n",
    "La droite d'équation $\\langle a,x \\rangle + b= 0$ coupe l'espace en deux demi-espaces: les points qui vérifient $\\langle a,x \\rangle + b \\geq  0$ et ceux qui vérifient $\\langle a,x \\rangle + b \\leq 0$.\n",
    "Notre objectif est que chaque nuage (rouge et bleu) soit d'un seul côté de la droite. Il faut donc que\n",
    "- pour toute donnée $i$ telle que $y_i = +1$ (les points bleus donc), on ait $\\langle a,x_i \\rangle + b \\geq 0$,\n",
    "- pour toute donnée $i$ telle que $y_i = -1$ (les points rouges donc), on ait $\\langle a,x_i \\rangle + b \\leq 0$.\n",
    "\n",
    "Autrement dit, on veut que pour toute donnée $i$, $\\langle a,x_i \\rangle + b$ ait le même signe que $y_i$. Ce que l'on peut écrire de manière équivalente:\n",
    "\\begin{equation*}\n",
    "    (\\forall i=1,\\dots, m) \\quad y_i(\\langle a,x_i \\rangle + b) \\geq 0. \\tag{1}\n",
    "\\end{equation*}\n",
    "La propriété ci-dessus peut se réécrire comme une inégalité vectorielle $\\Phi w \\succeq 0$, pourvu qu'on introduise la bonne matrice $\\Phi$.\n",
    "En effet, si on rappelle que $w = (a,b)$ et que l'on définit $\\Phi$ par\n",
    "\\begin{equation*}\n",
    "    \\Phi :=\n",
    "    \\begin{pmatrix}\n",
    "        y_1 x_1^\\top & y_1 \\\\\n",
    "        \\vdots & \\vdots \\\\\n",
    "        y_i x_i^\\top & y_i \\\\\n",
    "        \\vdots & \\vdots \\\\\n",
    "        y_m x_m^\\top & y_m\n",
    "    \\end{pmatrix} \\in \\mathcal{M}_{m,3}(\\mathbb{R}),\n",
    "\\end{equation*}\n",
    "\n",
    "on voit que le produit entre la matrice $\\Phi$ et le vecteur $w=(a,b)$ vaut\n",
    "\n",
    "\n",
    "\\begin{darray}{rcl}\n",
    "    & \n",
    "    & \n",
    "    \\begin{pmatrix}\n",
    "        a \\\\\n",
    "        b\n",
    "    \\end{pmatrix}\n",
    "    \\\\\n",
    "    \\Phi w = \n",
    "    &\n",
    "    \\begin{pmatrix}\n",
    "        y_1 x_1^\\top & y_1 \\\\\n",
    "        \\vdots & \\vdots \\\\\n",
    "        y_i x_i^\\top & y_i \\\\\n",
    "        \\vdots & \\vdots \\\\\n",
    "        y_m x_m^\\top & y_m\n",
    "    \\end{pmatrix} \n",
    "    & \n",
    "    \\begin{pmatrix}\n",
    "        y_1(\\langle a,x_1 \\rangle + b) \\\\\n",
    "        \\vdots  \\\\\n",
    "        y_i(\\langle a,x_i \\rangle + b) \\\\\n",
    "        \\vdots  \\\\\n",
    "        y_m(\\langle a,x_m \\rangle + b)\n",
    "    \\end{pmatrix},\n",
    "\\end{darray}\n",
    "\n",
    "et donc que la propriété (1) est équivalente à ce que tous les coefficients de $\\Phi w$ soient positifs, autrement dit, à ce que $\\Phi w \\succeq 0$. Noter que $\\Phi$ ne dépend que des données $x_i,y_i$ !\n",
    "\n",
    "**En résumé:** Une droite paramétrée par $w$ sépare bien les deux nuages si et seulement si $\\Phi w \\succeq 0$.\n",
    "\n",
    "\n"
   ]
  },
  {
   "cell_type": "markdown",
   "metadata": {
    "tags": []
   },
   "source": [
    "### b. Choisir la droite la plus éloignée des données"
   ]
  },
  {
   "cell_type": "markdown",
   "metadata": {
    "tags": []
   },
   "source": [
    "Supposons que l'on aie une droite $D_w$ d'équation $\\langle a,x \\rangle + b =0$, paramétrée par $w =(a,b)$.\n",
    "Etant donnée une donnée quelconque $x_i$, la distance entre cette donnée $x_i$ et la droite $D_w$ se note ${\\rm{dist}}~(x_i;D_w)$.\n",
    "Ainsi, la distance entre la droite $D_w$ et le point qui en est le plus proche est simplement le minimum de ces distances:\n",
    "$$\n",
    "\\min\\limits_{i=1,\\dots, m} \\ {\\rm{dist}}~(x_i;D_w).\n",
    "$$\n",
    "En d'autres termes, la quantité ci-dessus représente la distance entre la droite $D_w$ et le nuage de points formé par les données.\n",
    "\n",
    "Puisque notre objectif est de choisir la droite la plus **éloignée** des données, on veut donc maximiser cette distance aux données. Autrement dit, on veut trouver le paramètre $w = (a,b) \\in \\mathbb{R}^3$ qui maximise cette distance, tout en respectant la contrainte de bien séparer les données (cf. paragraphe précédent):\n",
    "\\begin{equation*}\n",
    "    {\\rm Résoudre} \n",
    "    \\quad \n",
    "    \\max\\limits_{w, \\ \\Phi w \\succeq 0} \\ \\min\\limits_{i=1,\\dots, m} \\ {\\rm{dist}}~(x_i;D_w), \n",
    "    \\quad \n",
    "    \\text{ où } D_w=\\{x \\in \\mathbb{R}^2 \\ | \\ \\langle a,x \\rangle + b =0 \\}.\n",
    "\\end{equation*}\n",
    "\n",
    "Ce problème a l'air difficile! Mais il est en fait possible de montrer qu'il est *équivalent* (on l'admet ici) à résoudre le problème suivant, qui est un peu plus sympatique:\n",
    "\\begin{equation*}\n",
    "    {\\rm Résoudre} \n",
    "    \\quad \n",
    "    \\min\\limits_{w=(a,b) \\in \\mathbb{R}^2 \\times \\mathbb{R}} \\ \\frac{1}{2} \\Vert a \\Vert^2, \n",
    "    \\quad \n",
    "    \\text{ sous la contrainte que } \\Phi w \\succeq e,\n",
    "    \\tag{P}\n",
    "\\end{equation*}\n",
    "où $e:=(1,\\dots,1)^\\top \\in \\mathbb{R}^m$.\n",
    "\n",
    "**En résumé:** Pour trouver une droite séparatrice optimale, il faut minimiser $\\Vert a \\Vert^2$ sous la contrainte que $w=(a,b)$ vérifie $\\Phi w \\succeq e$."
   ]
  },
  {
   "cell_type": "markdown",
   "metadata": {
    "tags": []
   },
   "source": [
    "### c. Le problème à résoudre : Support Vector Machine (SVM)"
   ]
  },
  {
   "cell_type": "markdown",
   "metadata": {},
   "source": [
    "Si on extrapole notre problème de séparer $m$ points dans $\\mathbb{R}^2$ à la séparation de $m$ points dans $\\mathbb{R}^n$, alors on se ramène à résoudre le problème d'optimisation quadratique convexe suivant (appelé SVM) : \n",
    "\\begin{equation*}\n",
    "    \\min\\limits_{w \\in \\mathbb{R}^{n+1}} \\ \\frac{1}{2} \\Vert Pw \\Vert^2, \n",
    "    \\quad \n",
    "    \\text{ sous la contrainte que } \\Phi w \\succeq e,\n",
    "    \\tag{P}\n",
    "\\end{equation*}\n",
    "où \n",
    "\n",
    "- $e:=(1,\\dots,1)^\\top \\in \\mathbb{R}^m$ \n",
    "- $P \\in \\mathcal{M}_{n+1}(\\mathbb{R})$ est la matrice de projection sur $F = \\{ w \\in \\mathbb{R}^{n+1} \\ | \\ w_{n+1}=0\\}$. Autrement dit $P$ projette sur les $n$ premières coordonnées, c-à-d $P= {\\rm{diag}}(1, \\dots, 1, 0)$.\n",
    "- $\\Phi \\in \\mathcal{M}_{m,n+1}(\\mathbb{R})$ est la matrice définie par\n",
    "\n",
    "\\begin{equation*}\n",
    "    \\Phi :=\n",
    "    \\begin{pmatrix}\n",
    "        y_1 x_1^\\top & y_1 \\\\\n",
    "        \\vdots & \\vdots \\\\\n",
    "        y_i x_i^\\top & y_i \\\\\n",
    "        \\vdots & \\vdots \\\\\n",
    "        y_m x_m^\\top & y_m\n",
    "    \\end{pmatrix}.\n",
    "\\end{equation*}\n",
    "\n",
    "- la solution $w \\in \\mathbb{R}^{n+1}$ s'écrit comme un couple $w=(a,b) \\in \\mathbb{R}^n \\times \\mathbb{R}$ qui va nous définir un hyperplan séparateur $\\{x \\in \\mathbb{R}^n \\ | \\ \\langle a,x \\rangle +b = 0 \\}$."
   ]
  },
  {
   "cell_type": "markdown",
   "metadata": {
    "tags": []
   },
   "source": [
    "# II. Résolution du problème : phase d'entraînement\n",
    "\n",
    "Dans cette partie, nous allons résoudre le problème (P) de trois manières différentes, dans les sections A,B et C.\n",
    "Ces trois sections sont de difficulté variable, mais indépendantes. Ceci étant dit, il est attendu que vous fassiez les trois."
   ]
  },
  {
   "cell_type": "markdown",
   "metadata": {},
   "source": [
    "**0)** Définir `e`, le vecteur $e:=(1,\\dots,1)^\\top \\in \\mathbb{R}^m$, ainsi que `Phi`, la matrice définie dans la section précédente. On rappelle que cette matrice ne dépend que de `X` et `Y`.\n",
    "\n",
    "On définira également `infini`, le vecteur $(+\\infty, \\dots, +\\infty) \\in \\mathbb{R}^m$, sachant que la quantité $+\\infty$ s'obtient avec `np.inf`."
   ]
  },
  {
   "cell_type": "code",
   "execution_count": 13,
   "metadata": {},
   "outputs": [],
   "source": [
    "e=np.ones(m)"
   ]
  },
  {
   "cell_type": "code",
   "execution_count": 14,
   "metadata": {},
   "outputs": [
    {
     "data": {
      "text/plain": [
       "array([1., 1., 1., 1., 1., 1., 1., 1., 1., 1., 1., 1., 1., 1., 1., 1., 1.,\n",
       "       1., 1., 1., 1., 1., 1., 1., 1., 1., 1., 1., 1., 1., 1., 1., 1., 1.,\n",
       "       1., 1., 1., 1., 1., 1., 1., 1., 1., 1., 1., 1., 1., 1., 1., 1., 1.,\n",
       "       1., 1., 1., 1., 1., 1., 1., 1., 1., 1., 1., 1., 1., 1., 1., 1., 1.,\n",
       "       1., 1., 1., 1., 1., 1., 1., 1., 1., 1., 1., 1., 1., 1., 1., 1., 1.,\n",
       "       1., 1., 1., 1., 1., 1., 1., 1., 1., 1., 1., 1., 1., 1., 1., 1., 1.,\n",
       "       1., 1., 1., 1., 1., 1., 1., 1., 1., 1., 1., 1., 1., 1., 1., 1., 1.,\n",
       "       1., 1., 1., 1., 1., 1., 1., 1., 1., 1., 1., 1., 1., 1., 1., 1., 1.,\n",
       "       1., 1., 1., 1., 1., 1., 1., 1., 1., 1., 1., 1., 1., 1., 1., 1., 1.,\n",
       "       1., 1., 1., 1., 1., 1., 1., 1., 1., 1., 1., 1., 1., 1., 1., 1., 1.,\n",
       "       1., 1., 1., 1., 1., 1., 1., 1., 1., 1., 1., 1., 1., 1., 1., 1., 1.,\n",
       "       1., 1., 1., 1., 1., 1., 1., 1., 1., 1., 1., 1., 1.])"
      ]
     },
     "execution_count": 14,
     "metadata": {},
     "output_type": "execute_result"
    }
   ],
   "source": [
    "e"
   ]
  },
  {
   "cell_type": "code",
   "execution_count": 15,
   "metadata": {},
   "outputs": [],
   "source": [
    "Phi = np.zeros((m,3)) # matrice vide\n",
    "Phi[:, 0:-1] = X # toutes les colonnes sauf une remplies par X\n",
    "Phi[:, -1] = e # dernière colonne remplie par des 1\n",
    "Phi = np.diag(Y)@Phi # on multiplie chaque ligne par y_i"
   ]
  },
  {
   "cell_type": "code",
   "execution_count": 16,
   "metadata": {},
   "outputs": [],
   "source": [
    "infini = e*np.inf"
   ]
  },
  {
   "cell_type": "markdown",
   "metadata": {
    "tags": []
   },
   "source": [
    "## A. Résolution via un solver Python\n",
    "\n",
    "Ici nous allons simplement donner le problème à Python, qui dispose de certaines routines pour résoudre les problèmes d'optimisation. Toute la difficulté consiste en la mise en forme du problème dans une syntaxe que Python peut conmprendre."
   ]
  },
  {
   "cell_type": "markdown",
   "metadata": {},
   "source": [
    "**1)** Définir une fonction `objectif` qui prend en entrée un vecteur $w=(a,b) \\in \\mathbb{R}^n \\times \\mathbb{R}$ et qui renvoie $\\Vert a \\Vert^2$."
   ]
  },
  {
   "cell_type": "code",
   "execution_count": 17,
   "metadata": {},
   "outputs": [],
   "source": [
    "def objectif(w):\n",
    "    return np.sum(w**2) - w[-1]**2"
   ]
  },
  {
   "cell_type": "markdown",
   "metadata": {},
   "source": [
    "**2)** On doit résoudre un problème d'optimisation sous contrainte. Pour cela, on va faire appel à la bibliothèque `scipy.optimize` qui peut faire cela pour nous. "
   ]
  },
  {
   "cell_type": "code",
   "execution_count": 18,
   "metadata": {},
   "outputs": [],
   "source": [
    "from scipy.optimize import LinearConstraint, minimize"
   ]
  },
  {
   "cell_type": "markdown",
   "metadata": {},
   "source": [
    "Tout d'abord on doit définir la contrainte $\\Phi w \\succeq e$. Il faut pour cela utiliser la fonction `LinearConstraint` qui permet de définir une contrainte de la forme\n",
    "$$\n",
    "\\{ w \\in \\mathbb{R}^d \\ | \\ a \\preceq \\Phi w \\preceq b \\}\n",
    "$$\n",
    "avec la commande `LinearConstraint(Phi, a, b)` (voir la [documentation](https://docs.scipy.org/doc/scipy/reference/generated/scipy.optimize.LinearConstraint.html#scipy.optimize.LinearConstraint) pour plus de détails). A vous de compléter la commande suivante, avec les objets définis à la question **1)**."
   ]
  },
  {
   "cell_type": "code",
   "execution_count": 19,
   "metadata": {},
   "outputs": [],
   "source": [
    "contrainte = LinearConstraint(Phi, e, infini)"
   ]
  },
  {
   "cell_type": "markdown",
   "metadata": {},
   "source": [
    "**3)** On peut maintenant obtenir la solution de notre problème, en faisant appel à `scipy.optimize.minimize` (voir la [documentation](https://docs.scipy.org/doc/scipy/reference/generated/scipy.optimize.minimize.html) pour plus de détails)."
   ]
  },
  {
   "cell_type": "code",
   "execution_count": 20,
   "metadata": {},
   "outputs": [
    {
     "data": {
      "text/plain": [
       "array([ 0.28086697,  0.39547876, -0.03896802])"
      ]
     },
     "execution_count": 20,
     "metadata": {},
     "output_type": "execute_result"
    }
   ],
   "source": [
    "w_sol_scipy = minimize(                          # minimiser\n",
    "                    fun = objectif,           # la fonction 'objectif'\n",
    "                    constraints = contrainte, # sous la contrainte 'contrainte'\n",
    "                    x0 = np.random.randn(3),  # en partant d'un point initial\n",
    "                    ).x                       # et donne-moi le vecteur solution\n",
    "w_sol_scipy"
   ]
  },
  {
   "cell_type": "markdown",
   "metadata": {},
   "source": [
    "**4)** Reprendre le code de la partie **I.1**, pour afficher les nuages de points ainsi que la droite définie par le paramètre $w_{sol-scipy} \\in \\mathbb{R}^3$ que vous venez d'obtenir. Êtes-vous satisfait(e) de la solution obtenue?"
   ]
  },
  {
   "cell_type": "code",
   "execution_count": 21,
   "metadata": {},
   "outputs": [
    {
     "data": {
      "image/png": "[encoded data removed]",
      "text/plain": [
       "<Figure size 640x480 with 1 Axes>"
      ]
     },
     "metadata": {},
     "output_type": "display_data"
    }
   ],
   "source": [
    "trace_droite(w_sol_scipy)\n",
    "_=plt.scatter(X[:, 0], X[:, 1], c=couleur)"
   ]
  },
  {
   "cell_type": "markdown",
   "metadata": {
    "tags": []
   },
   "source": [
    "## B. Résolution via le problème dual et la méthode du gradient projeté"
   ]
  },
  {
   "cell_type": "markdown",
   "metadata": {},
   "source": [
    "Ici nous allons nous intérésser à (D), le problème dual de (P) au sens de Fenchel-Rockafellar. Dans un premier temps nous allons calculer ce problème dual. Dans un second temps, nous allons voir qu'il a une structure plus simple, le rendant facile à résoudre.\n",
    "Dans un troisième temps, nous allons résoudre (D) avec la méthode du gradient projeté, puis retrouver une solution du problème primal (P)."
   ]
  },
  {
   "cell_type": "markdown",
   "metadata": {
    "tags": []
   },
   "source": [
    "### 1. Calcul du problème dual"
   ]
  },
  {
   "cell_type": "markdown",
   "metadata": {},
   "source": [
    "**1)** 📝 Montrer que le problème (P) peut s'écrire sous la forme \n",
    "\\begin{equation*}\n",
    "    \\min\\limits_{w \\in \\mathbb{R}^{n+1}} \\ f(w) + g(\\Phi w), \n",
    "    \\tag{P}\n",
    "\\end{equation*}\n",
    "où\n",
    "- $f$ est une fonction quadratique semi définie positive,\n",
    "- $g = \\delta_C$ est la fonction indicatrice de $C$, un ensemble convexe fermé non vide."
   ]
  },
  {
   "cell_type": "markdown",
   "metadata": {},
   "source": [
    "**Réponse:** Ici $f(w) = (1/2) \\Vert Pw \\Vert^2$ et $C = \\{ \\alpha \\in \\mathbb{R}^M \\ | \\ \\alpha \\succeq e \\}$."
   ]
  },
  {
   "cell_type": "markdown",
   "metadata": {},
   "source": [
    "**2)** 📝 D'après la dualité de Fenchel-Rockafellar, le problème dual de (P) consiste à résoudre\n",
    "\\begin{equation*}\n",
    "    \\min\\limits_{u \\in \\mathbb{R}^m} \\ f^* (-\\Phi^\\top u) + g^* (u), \n",
    "    \\tag{D}\n",
    "\\end{equation*}\n",
    "Vous devrez:\n",
    "\n",
    "- Calculer la conjuguée de Fenchel $f^*$. Pour cela vous pourrez utiliser un résultat de la feuille de TD sur la conjuguée.\n",
    "- Calculer la conjuguée de Fenchel $g^*$. Vous utiliserez des résultats du cours  pour montrer que \n",
    "\\begin{equation*}\n",
    "    g^*(u) = \\delta_K(u) - \\langle e, u \\rangle,\n",
    "\\end{equation*}\n",
    "où $K$ est un cône convexe fermé (très sympatique) non vide."
   ]
  },
  {
   "cell_type": "markdown",
   "metadata": {},
   "source": [
    "**Réponse:** \n",
    "- Si on pose $F=  \\{ u\\in \\mathbb{R}^{n+1} \\ | \\ u_{n+1}=0 \\}$ alors $f^*(u) = (1/2)\\Vert u \\Vert^2 + \\delta_F(u)$.\n",
    "Autrement dit, $f^*(u) = (1/2)\\Vert u \\Vert^2$ si $u_{n+1}=0$, $+\\infty$ sinon.\n",
    "- Ici $g(p)$ est l'indicatrice de $p \\succeq e$. Donc $g(p) = \\delta_K(p-e)$, où $K=\\mathbb{R}^m_+$ est l'orthant positif.\n",
    "Donc $g^* (u) = \\delta_K^* (u) + \\langle e, u \\rangle =\\delta_{K^*}(u) + \\langle e,u \\rangle$, où $K^* = \\mathbb{R}^m_-$ est l'orthant négatif."
   ]
  },
  {
   "cell_type": "markdown",
   "metadata": {},
   "source": [
    "**3)** 📝 Conclure que le problème dual s'écrit\n",
    "\n",
    "\\begin{equation*}\n",
    "    \\min\\limits_{u \\in \\mathbb{R}^M} \\ h(u), \n",
    "    \\quad \n",
    "    \\text{ sous la contrainte que } u \\in K \\text{ et } \\langle y,u \\rangle =0,\n",
    "    \\tag{D}\n",
    "\\end{equation*}\n",
    "où $h$ est une fonction convexe quadratique."
   ]
  },
  {
   "cell_type": "markdown",
   "metadata": {},
   "source": [
    "**Réponse:** Tout ce qu'on a calculé nous donne pour le dual:\n",
    "$$\\frac{1}{2}\\Vert -\\Phi^\\top u \\Vert^2 + \\langle e,u \\rangle + \\delta_F(-\\Phi^\\top u) + \\delta_{\\mathbb{R}^M_-}(u).\n",
    "$$\n",
    "On pose donc $h(u) = \\frac{1}{2}\\Vert \\Phi^\\top u \\Vert^2 + \\langle e,u \\rangle$ qui est bien convexe quadratique.\n",
    "Le terme $\\delta_{\\mathbb{R}^M_-}(u)$ donne la contrainte $u \\in K=\\mathbb{R}^m_-$.\n",
    "Le terme $\\delta_F(-\\Phi^\\top u)$ veut dire que la $n+1$ ème coordonnée de $\\Phi^\\top u$ doit être nulle. Or d'après la définition de $\\Phi$, la $n+1$ ème coordonnée de $\\Phi^\\top u$ c'est $\\langle y, u \\rangle$. D'où le résultat."
   ]
  },
  {
   "cell_type": "markdown",
   "metadata": {
    "tags": []
   },
   "source": [
    "### 2. Définition de la projection"
   ]
  },
  {
   "cell_type": "markdown",
   "metadata": {},
   "source": [
    "\n",
    "\n",
    "Ici on s'intéresse à la projection sur la contrainte duale\n",
    "$$D:= \\{ u \\in \\mathbb{R}^M \\ | \\ u \\in K \\text{ et } \\langle y,u \\rangle =0\\},$$\n",
    "où $K$ est le cône simple que vous avez obtenu à la section précédente."
   ]
  },
  {
   "cell_type": "markdown",
   "metadata": {},
   "source": [
    "**1)** Définir une fonction `proj_K` qui prend en entrée un vecteur `u` et renvoie en sortie la projection de $u$ sur $K$."
   ]
  },
  {
   "cell_type": "code",
   "execution_count": 22,
   "metadata": {},
   "outputs": [],
   "source": [
    "def proj_K(u):\n",
    "    return np.minimum(0, u)"
   ]
  },
  {
   "cell_type": "markdown",
   "metadata": {},
   "source": [
    "**2)** Définir une fonction `proj_H` qui prend en entrée un vecteur `u` et le vecteur `y` et renvoie en sortie la projection sur l'hyperplan défini par\n",
    "$$H := \\{ u \\in \\mathbb{R}^M \\ | \\ \\langle y, u \\rangle =0 \\}.$$\n",
    "Pour ce faire, vous chercherez (à la main ou sur internet ou dans le cours qui sait) comment calculer la projection sur un Hyperplan."
   ]
  },
  {
   "cell_type": "code",
   "execution_count": 23,
   "metadata": {},
   "outputs": [],
   "source": [
    "def proj_H(u,y):\n",
    "    return u - (y.T@u)/la.norm(y)**2 * y"
   ]
  },
  {
   "cell_type": "markdown",
   "metadata": {},
   "source": [
    "**3)** Définir une fonction `proj_D_approx` qui \n",
    "\n",
    "- prend en entrée un vecteur `u` et le vecteur `y`\n",
    "- renvoie en sortie une approximation de la projection de $u$ sur $D = K \\cap H$\n",
    "\n",
    "Pour calculer cette projection approximative, vous allez utiliser la méthode de **projection de Dijkstra** sur une dizaine d'itérations.\n",
    "Elle se définit via des projections alternées sur $H$ et $K$, comme suit:\n",
    "\n",
    "| Projection de Dijkstra |\n",
    "|-|\n",
    "| On veut projeter $u$ sur $K\\cap H$ |\n",
    "| On initialise $x_0=u$, et $h_0=p_0=q_0=0$, puis pour $k \\geq 0$: | \n",
    "| $$\\begin{cases} h_{k+1} & =  {\\rm{proj}}_H(x_k+p_k) \\\\ p_{k+1} &= x_k + p_k - h_{k+1} \\\\ x_{k+1} &= {\\rm{proj}}_K( h_{k+1} + q_k) \\\\ q_{k+1} &= h_{k+1} + q_k - x_{k+1} \\end{cases}$$ |\n",
    "| **Théorème:** $x_k \\to {\\rm{proj}}_{K\\cap H}(u)$ lorsque $k \\to +\\infty$ |"
   ]
  },
  {
   "cell_type": "code",
   "execution_count": 24,
   "metadata": {},
   "outputs": [],
   "source": [
    "def proj_D_approx(u, y):\n",
    "    # projection alternée de Dijkstra sur l'intersection H et K\n",
    "    # where K is the positive orthant cone\n",
    "    # and H is the hyperplane of equation <x,y>=0\n",
    "    x=u #initilisation de x\n",
    "    n=u.shape # on récupère la dimension\n",
    "    h=np.zeros(n) #initilisation de y\n",
    "    p=np.zeros(n) #initilisation de p\n",
    "    q=np.zeros(n) #initilisation de q\n",
    "    for _ in range(20):\n",
    "        h = proj_K(x+p)\n",
    "        p = x + p - h\n",
    "        x = proj_H(h+q, y)\n",
    "        q = h + q - x\n",
    "    return x"
   ]
  },
  {
   "cell_type": "markdown",
   "metadata": {},
   "source": [
    "**4)** On va ici implémenter une alternative à la méthode de projection approchée de la question précédente avec la **projection de Kiwiel**. Cette dernière s'effectue avec la fonction `proj_kiwiel` (importée ci-dessous), qui:\n",
    "\n",
    "- projette un vecteur $u$ sur une intersection $K \\cap H$ \n",
    "   - où $H$ est un hyperplan $H = \\{ u \\in \\mathbb{R}^M \\ | \\ \\langle y, u \\rangle =0 \\}$\n",
    "   - où $K$ est un ensemble défini par $K = \\{ u \\in \\mathbb{R}^M \\ | \\ a \\preceq u \\preceq b \\}$\n",
    "     - ici les bornes $a, b \\in \\mathbb{R}^M$ peuvent prendre des valeurs $\\pm \\infty$\n",
    "- prend en entrée `proj_kiwiel(u, y, a, b)` où $u$ est le vecteur à projeter, $y$ le vecteur définissant l'hyperplan $H$, et $a,b$ sont les bornes (inférieures et supérieures) définissant $K$.\n",
    "- renvoie en sortie la projection de $u$ sur $K \\cap H$.\n",
    "\n",
    "Votre travail ici consiste à définir une fonction `proj_D` qui prend en entrée un vecteur `u`, le vecteur `y`, et renvoie la projection de $u$ sur $D$.\n",
    "Pour ce faire, vous définirez les bornes `a` et `b` qui définissent $K$, et vous appliquerez la projection de Kiwiel."
   ]
  },
  {
   "cell_type": "code",
   "execution_count": 25,
   "metadata": {},
   "outputs": [],
   "source": [
    "from scripts.kiwiel import proj_kiwiel"
   ]
  },
  {
   "cell_type": "code",
   "execution_count": 26,
   "metadata": {},
   "outputs": [],
   "source": [
    "def proj_D(u, y):\n",
    "    dim = u.shape[0]\n",
    "    b = np.zeros(dim)\n",
    "    a = -np.ones(dim)*np.inf\n",
    "    return proj_kiwiel(u, y, a, b)    "
   ]
  },
  {
   "cell_type": "markdown",
   "metadata": {},
   "source": [
    "**5)** Prendre un vecteur $u \\in \\mathbb{R}^M$ quelconque, et comparer les projections `proj_D_approx` et `proj_D`. Vous regarderez notamment si le vecteur projeté vérifie bien les contraintes $K \\cap H$."
   ]
  },
  {
   "cell_type": "code",
   "execution_count": 27,
   "metadata": {},
   "outputs": [],
   "source": [
    "u = np.random.randn(m)"
   ]
  },
  {
   "cell_type": "code",
   "execution_count": 28,
   "metadata": {},
   "outputs": [
    {
     "data": {
      "text/plain": [
       "np.float64(2.800682060571935e-08)"
      ]
     },
     "execution_count": 28,
     "metadata": {},
     "output_type": "execute_result"
    }
   ],
   "source": [
    "p_dyj = proj_D_approx(u, Y)\n",
    "p_dyj.T@Y\n",
    "np.max(p_dyj)\n",
    "# la contrainte de positivité n'est pas parfaitement vérifiée. Celle d'hyperplan est vraie à 1e-15 près"
   ]
  },
  {
   "cell_type": "code",
   "execution_count": 29,
   "metadata": {},
   "outputs": [
    {
     "data": {
      "text/plain": [
       "np.float64(0.0)"
      ]
     },
     "execution_count": 29,
     "metadata": {},
     "output_type": "execute_result"
    }
   ],
   "source": [
    "p_kiw = proj_D(u, Y)\n",
    "p_kiw.T@Y\n",
    "np.max(p_kiw)\n",
    "# la contrainte de positivité est mieux vérifiée"
   ]
  },
  {
   "cell_type": "markdown",
   "metadata": {
    "tags": []
   },
   "source": [
    "### 3. Méthode du gradient projeté"
   ]
  },
  {
   "cell_type": "markdown",
   "metadata": {},
   "source": [
    "La méthode du gradient projeté permet de résoudre un problème de la forme \n",
    "$$ \\min f(x), x \\in C$$\n",
    "L'algorithme s'écrit \n",
    "\n",
    "| | | |\n",
    "|-|-|-|\n",
    "|| On choisit $x_0$ un vecteur de $\\mathbb{R}^N$ et $\\rho > 0$ un pas fixe. | \n",
    "|  | Pour $k\\geq 0$ : $\\qquad \\qquad \\, $   $x_{k+1}$  = ${\\rm{proj}}_C(x_k - \\rho \\nabla f(x_k))$  | \n",
    "\n",
    "L'algorithme est garanti de converger si $f$ est convexe, de classe $C^1$, avec un gradient $L$-Lipschitzien, et un pas $\\rho \\in ]0,2/L[$."
   ]
  },
  {
   "cell_type": "markdown",
   "metadata": {},
   "source": [
    "**1)** 📝 Vérifier que les hypothèses ci-dessus sont vérifiées pour le problème dual (D). En particulier, vous calculerez $\\nabla h$, et vous définirez sa constante de Lipschitz `L`."
   ]
  },
  {
   "cell_type": "code",
   "execution_count": 30,
   "metadata": {},
   "outputs": [],
   "source": [
    "# la hessienne de h est la matrice Phi Phi^T donc\n",
    "L = np.linalg.norm(Phi,2)**2\n",
    "mu = np.linalg.norm(Phi,-2)**2"
   ]
  },
  {
   "cell_type": "code",
   "execution_count": 31,
   "metadata": {},
   "outputs": [
    {
     "data": {
      "text/plain": [
       "np.float64(3775.018183700163)"
      ]
     },
     "execution_count": 31,
     "metadata": {},
     "output_type": "execute_result"
    }
   ],
   "source": [
    "L"
   ]
  },
  {
   "cell_type": "code",
   "execution_count": 32,
   "metadata": {},
   "outputs": [
    {
     "data": {
      "text/plain": [
       "np.float64(199.17419367021907)"
      ]
     },
     "execution_count": 32,
     "metadata": {},
     "output_type": "execute_result"
    }
   ],
   "source": [
    "mu"
   ]
  },
  {
   "cell_type": "markdown",
   "metadata": {},
   "source": [
    "**2)** Définir une fonction `FB_dual` qui résoud le problème dual (D) en:\n",
    "\n",
    "- prenant en entrée la matrice `Phi`, le vecteur `y`, un pas `rho`, un nombre d'itérations `nb_iter`\n",
    "- résolvant le problème dual en appliquant la méthode du gradient projeté :\n",
    "  - en initialisant les itérés en $0 \\in \\mathbb{R}^m$\n",
    "  - avec un pas `rho`\n",
    "  - en réalisant la projection sur $D$ avec une fonction définie dans la section précédente (de votre choix)\n",
    "  - pendant un nombre d'itérations égal à `nb_iter`\n",
    "- retournant en sortie le dernier itéré calculé "
   ]
  },
  {
   "cell_type": "code",
   "execution_count": 33,
   "metadata": {},
   "outputs": [],
   "source": [
    "def FB_dual(Phi, y, rho, nb_iter=500):\n",
    "    N = Phi.shape[1]\n",
    "    M = Phi.shape[0]\n",
    "    # y = Phi[:,-1] # la dernière colonne\n",
    "    e = np.ones(M)\n",
    "    # resolution du pb dual\n",
    "    u = np.zeros(M)\n",
    "    for i in np.arange(nb_iter):\n",
    "        u = u - rho * (Phi @ Phi.T @ u + e)\n",
    "        u = proj_D(u, y)\n",
    "    return u"
   ]
  },
  {
   "cell_type": "markdown",
   "metadata": {},
   "source": [
    "**3)** Trouver `u_sol_GPD` une solution approchée au problème dual (D)."
   ]
  },
  {
   "cell_type": "code",
   "execution_count": 34,
   "metadata": {},
   "outputs": [],
   "source": [
    "rho = 2/(L+mu)\n",
    "u_sol_GPD = FB_dual(Phi, Y, rho, nb_iter=10000)"
   ]
  },
  {
   "cell_type": "code",
   "execution_count": 35,
   "metadata": {},
   "outputs": [
    {
     "data": {
      "text/plain": [
       "np.float64(0.0)"
      ]
     },
     "execution_count": 35,
     "metadata": {},
     "output_type": "execute_result"
    }
   ],
   "source": [
    "u_sol_GPD[-1]"
   ]
  },
  {
   "cell_type": "markdown",
   "metadata": {},
   "source": [
    "**4)** 📝 D'après la caractérisation des solutions du problème primal-dual vu en cours, on sait que la solution $w$ du problème primal est liée à la solution $u$ du problème dual via l'inclusion $w \\in \\partial f^*(-\\Phi^\\top u)$.\n",
    "Montrer que ceci implique que $-\\Phi^\\top u$ peut s'écrire   $-\\Phi^\\top u= (a,0)$ où $a \\in \\mathbb{R}^n$, et que $w=(a,b)$ pour un certain $b$ à déterminer."
   ]
  },
  {
   "cell_type": "markdown",
   "metadata": {},
   "source": [
    "**Correction:** \n",
    "- On a calculé précédemment que $f^*(u) = (1/2)\\Vert u \\Vert^2 + \\delta_F(u)$.\n",
    "Donc $\\partial f^*(u) = u + N_F(u)$ si $u \\in F$, $\\partial f^*(u) = \\emptyset$ sinon.\n",
    "- Le théorème nous dit que $w \\in \\partial f^*(-\\Phi^\\top u)$, donc forcément $\\Phi^\\top u \\in F$. Ceci veut dire que sa dernière coordonnée est nulle et que $\\Phi^\\top u = (a,0)$.\n",
    "- De plus $N_F(u) = F^\\bot = \\{ (0,b) \\ | \\ b \\in \\mathbb{R} \\}$.\n",
    "- donc on a $w = -\\Phi^\\top u + (0,b), b \\in \\mathbb{R}$."
   ]
  },
  {
   "cell_type": "markdown",
   "metadata": {},
   "source": [
    "\n",
    "\n",
    "**5)** Vous vérifierez numériquement que la dernière coordonnée de $\\Phi^\\top u$ est bien nulle. Définissez `a`."
   ]
  },
  {
   "cell_type": "code",
   "execution_count": 36,
   "metadata": {},
   "outputs": [
    {
     "data": {
      "text/plain": [
       "np.float64(0.0)"
      ]
     },
     "execution_count": 36,
     "metadata": {},
     "output_type": "execute_result"
    }
   ],
   "source": [
    "w_sol_GPD = -Phi.T @ u_sol_GPD\n",
    "w_sol_GPD[-1]"
   ]
  },
  {
   "cell_type": "code",
   "execution_count": 37,
   "metadata": {},
   "outputs": [
    {
     "data": {
      "text/plain": [
       "array([0.28083955, 0.39549777])"
      ]
     },
     "execution_count": 37,
     "metadata": {},
     "output_type": "execute_result"
    }
   ],
   "source": [
    "a = w_sol_GPD[:-1]\n",
    "a"
   ]
  },
  {
   "cell_type": "markdown",
   "metadata": {},
   "source": [
    "**6)** On admet par la suite que l'on peut prendre $b=0$, c-à-d que $w = -\\Phi^\\top u$ est solution de notre problème primal (P). Reprendre le code de la partie **I.1**, pour afficher les nuages de points ainsi que la droite définie par le paramètre $w \\in \\mathbb{R}^3$ que vous venez d'obtenir. Êtes-vous satisfait(e) de la solution obtenue?"
   ]
  },
  {
   "cell_type": "code",
   "execution_count": 38,
   "metadata": {},
   "outputs": [
    {
     "data": {
      "image/png": "[encoded data removed]",
      "text/plain": [
       "<Figure size 640x480 with 1 Axes>"
      ]
     },
     "metadata": {},
     "output_type": "display_data"
    }
   ],
   "source": [
    "trace_droite(w_sol_scipy)\n",
    "trace_droite(w_sol_GPD)\n",
    "_=plt.scatter(X[:, 0], X[:, 1], c=couleur)"
   ]
  },
  {
   "cell_type": "markdown",
   "metadata": {},
   "source": [
    "## C. Résolution via une méthode d'éclatement"
   ]
  },
  {
   "cell_type": "markdown",
   "metadata": {},
   "source": [
    "Dans cette section, l'objectif est que vous soyez plus autonomes. Nous vous fournissons un algorithme, un théorème, et vous devez vous en servir pour trouver une solution aux problèmes (P) et (D). A vous de vérifier (et de nous convaincre) que votre code fonctionne et vous fournit une solution satisfaisante."
   ]
  },
  {
   "cell_type": "markdown",
   "metadata": {},
   "source": [
    "On introduit l'algorithme de **Loris-Verhoeven**, qui est une généralisation de la méthode du gradient proximal, et un cas particulier de l'algorithme de Yan, qui s'applique à la minimisation d'une fonction de la forme $g(Ax) + h(x)$, où $g \\in \\Gamma_0(\\mathbb{R}^M)$ et $h \\in \\Gamma_0(\\mathbb{R}^N) \\cap C^{1,1}_L(\\mathbb{R}^N)$:\n",
    "\n",
    "| L'algorithme de **Loris-Verhoeven** |\n",
    "| --- |\n",
    "| Soient $x_0 \\in \\mathbb{R}^N, u \\in \\mathbb{R}^M$, $\\lambda, \\sigma >0$ |\n",
    "| $$\\begin{cases} x_{k+1} &= x_k - \\lambda \\nabla h(x_k) - \\lambda A^\\top u_n \\\\ u_{k+1} &=  {\\rm prox}_{{\\sigma}g^*} \\left(u_n + \\sigma A \\left[2x_{k+1} - x_k + \\lambda \\nabla h(x_k) - \\lambda \\nabla h(x_{k+1}) \\right]\\right) \\end{cases}$$ |"
   ]
  },
  {
   "cell_type": "markdown",
   "metadata": {},
   "source": [
    "**Théorème:** Soient $h : \\mathbb{R}^n \\to \\mathbb{R}$ une fonction différentiable à gradient $L$-Lipschitzien,  $g : \\mathbb{R}^m \\to \\mathbb{R}\\cup\\{+\\infty\\}$ une fonction convexe s.c.i. propre, et $A \\in \\mathcal{M}_{m,n}(\\mathbb{R})$.\n",
    "Soit $(x_k,u_k)_{k \\in \\mathbb{N}}$ une suite générée par l'algorithme de Loris-Verhoeven, avec\n",
    "$$ \\lambda \\in \\left]0, \\frac{2}{L}\\right[ \\quad \\text{ et } \\quad \\sigma \\in \\left]0, \\frac{1}{\\lambda \\Vert A \\Vert^2}\\right].$$\n",
    "Alors \n",
    "- $x_k$ converge vers un minimiseur de $f + g \\circ A$, s'il en existe,\n",
    "- $u_k$ converge vers un minimiseur de $f^* \\circ -A^\\top + g^*$ s'il en existe."
   ]
  },
  {
   "cell_type": "code",
   "execution_count": 39,
   "metadata": {},
   "outputs": [],
   "source": [
    "def grad_h(x):\n",
    "    # gradient de 0.5*norm(Px) qui vaut Px\n",
    "    g = x.copy()\n",
    "    g[-1] = 0\n",
    "    return g\n",
    "\n",
    "def proj_C(u):\n",
    "    # projection sur { x | x >= e }\n",
    "    e = np.ones(u.shape[0])\n",
    "    return np.maximum(u, e)\n",
    "\n",
    "def prox_g_star(u, sigma):\n",
    "    # prox de sigma g*\n",
    "    # on applique la formule de décomposition de Moreau\n",
    "    return u - sigma*proj_C( u/sigma )\n",
    "\n",
    "def LV(Phi, y, nb_iter):\n",
    "    m, n = Phi.shape\n",
    "    lmbda = 1 # car f est de gradient 1-Lipschitzien\n",
    "    norm_phi_sq = la.norm(Phi,2)**2\n",
    "    sigma = 1/norm_phi_sq # car on peut prendre 1/(lmbda*|A|**2)\n",
    "\n",
    "    x = np.zeros(n)\n",
    "    u = np.zeros(m)\n",
    "    \n",
    "    for _ in range(nb_iter):\n",
    "        x_old = x\n",
    "        x = x - lmbda*grad_h(x) - lmbda*Phi.T @ u\n",
    "        u = prox_g_star( u + sigma*Phi@(2*x - x_old + lmbda*grad_h(x_old) - lmbda*grad_h(x)) , sigma)\n",
    "    return x, u"
   ]
  },
  {
   "cell_type": "code",
   "execution_count": 40,
   "metadata": {},
   "outputs": [],
   "source": [
    "w_sol_LV, u_sol_LV = LV(Phi, Y, nb_iter=10000)"
   ]
  },
  {
   "cell_type": "code",
   "execution_count": 41,
   "metadata": {},
   "outputs": [
    {
     "data": {
      "text/plain": [
       "np.float64(0.03400986036995927)"
      ]
     },
     "execution_count": 41,
     "metadata": {},
     "output_type": "execute_result"
    }
   ],
   "source": [
    "la.norm(w_sol_LV - w_sol_GPD)"
   ]
  },
  {
   "cell_type": "code",
   "execution_count": 42,
   "metadata": {},
   "outputs": [
    {
     "data": {
      "text/plain": [
       "np.float64(0.008898568880840032)"
      ]
     },
     "execution_count": 42,
     "metadata": {},
     "output_type": "execute_result"
    }
   ],
   "source": [
    "la.norm( u_sol_LV - u_sol_GPD )"
   ]
  },
  {
   "cell_type": "code",
   "execution_count": 43,
   "metadata": {},
   "outputs": [
    {
     "data": {
      "image/png": "[encoded data removed]",
      "text/plain": [
       "<Figure size 640x480 with 1 Axes>"
      ]
     },
     "metadata": {},
     "output_type": "display_data"
    }
   ],
   "source": [
    "trace_droite(w_sol_scipy)\n",
    "trace_droite(w_sol_GPD)\n",
    "trace_droite(w_sol_LV)\n",
    "_=plt.scatter(X[:, 0], X[:, 1], c=couleur)"
   ]
  },
  {
   "cell_type": "markdown",
   "metadata": {},
   "source": [
    "## D. Conclusion"
   ]
  },
  {
   "cell_type": "markdown",
   "metadata": {},
   "source": [
    "Comparer les trois solutions obtenues. D'une part vous visualiserez les 3 droites séparatrices correspondantes. Ensuite vous évaluerez $f$ en ces points. Donner votre avis sur vos résultats."
   ]
  },
  {
   "cell_type": "code",
   "execution_count": 44,
   "metadata": {},
   "outputs": [],
   "source": [
    "def valeur_primale(x):\n",
    "    return 0.5*np.linalg.norm(grad_h(x))"
   ]
  },
  {
   "cell_type": "code",
   "execution_count": 45,
   "metadata": {},
   "outputs": [
    {
     "data": {
      "text/plain": [
       "np.float64(0.2425333509681456)"
      ]
     },
     "execution_count": 45,
     "metadata": {},
     "output_type": "execute_result"
    }
   ],
   "source": [
    "valeur_primale(w_sol_scipy)"
   ]
  },
  {
   "cell_type": "code",
   "execution_count": 46,
   "metadata": {},
   "outputs": [
    {
     "data": {
      "text/plain": [
       "np.float64(0.2425331649080287)"
      ]
     },
     "execution_count": 46,
     "metadata": {},
     "output_type": "execute_result"
    }
   ],
   "source": [
    "valeur_primale(w_sol_GPD)"
   ]
  },
  {
   "cell_type": "code",
   "execution_count": 47,
   "metadata": {},
   "outputs": [
    {
     "data": {
      "text/plain": [
       "np.float64(0.24155915673391679)"
      ]
     },
     "execution_count": 47,
     "metadata": {},
     "output_type": "execute_result"
    }
   ],
   "source": [
    "valeur_primale(w_sol_LV)"
   ]
  },
  {
   "cell_type": "markdown",
   "metadata": {
    "tags": []
   },
   "source": [
    "# III. Classifier des images"
   ]
  },
  {
   "cell_type": "markdown",
   "metadata": {
    "tags": []
   },
   "source": [
    "## 1. Obtention des données : Importer le jeu de données MNIST\n",
    "\n",
    "On va résoudre un problème similaire, sauf que cette fois les données ne sont plus des points $x_i \\in \\mathbb{R}^2$ rouges ou bleus, mais des images $x_i \\in \\mathbb{R}^{64}$ de chiffres écrits à la main.\n",
    "On ne parlera donc plus de \"droite séparatrice\" mais d'\"hyperplan séparateur\".\n",
    "\n",
    "| Un nouveau jeu de données | \n",
    "| ----------- |\n",
    "| ![](images/mnist.jpg) |\n",
    "| Chaque image de $8\\times 8$ pixels est représentée par un point $x_i \\in \\mathbb{R}^{64}$ |\n",
    "\n",
    "Pour ce TP on va se contenter de séparer des images de 0 et de 1. Leurs étiquettes $y_i$ prendront respectivement les valeurs $-1$ et $+1$.\n",
    "\n"
   ]
  },
  {
   "cell_type": "code",
   "execution_count": 48,
   "metadata": {},
   "outputs": [],
   "source": [
    "import sklearn.datasets\n",
    "import sklearn.model_selection"
   ]
  },
  {
   "cell_type": "code",
   "execution_count": 49,
   "metadata": {},
   "outputs": [],
   "source": [
    "# paramètres pour l'affichage des images de nombres\n",
    "plt.rcParams['xtick.bottom'] = False\n",
    "plt.rcParams['ytick.left'] = False\n",
    "plt.rcParams['xtick.labelbottom'] = False\n",
    "plt.rcParams['ytick.labelleft'] = False\n",
    "plt.rcParams['image.cmap'] = 'gray_r'"
   ]
  },
  {
   "cell_type": "code",
   "execution_count": 50,
   "metadata": {},
   "outputs": [],
   "source": [
    "# importe les données\n",
    "digits = sklearn.datasets.load_digits() # Importe un jeu de données à classer (10 classes)\n",
    "digits.data = digits.data*1/np.max(digits.data) # normalise : coeffs dans [0,1]\n",
    "classes = [0, 1] # Définit les 2 classes de nombres avec lesquelles on va travailler\n",
    "idx_classes = np.logical_or(digits.target == classes[0], digits.target == classes[1]) # Localise les deux classes ..\n",
    "digits.data = digits.data[idx_classes] # .. les extrait ..\n",
    "digits.target = digits.target[idx_classes] # .. et jette le reste\n",
    "digits.target = np.where(digits.target==classes[0],-1, 1) # Transforme les étiquettes de classes en {-1,+1}\n",
    "\n",
    "X, X_test, Y, Y_test = sklearn.model_selection.train_test_split( # On coupe le jeu de données en deux\n",
    "                        digits.data, digits.target, train_size=25, shuffle=True)"
   ]
  },
  {
   "cell_type": "code",
   "execution_count": 51,
   "metadata": {},
   "outputs": [
    {
     "data": {
      "image/png": "[encoded data removed]",
      "text/plain": [
       "<Figure size 300x300 with 25 Axes>"
      ]
     },
     "metadata": {},
     "output_type": "display_data"
    }
   ],
   "source": [
    "# Affiche les 25 premières images de X\n",
    "fig, axs = plt.subplots(5, 5, figsize=(3, 3))\n",
    "for i in range(5):\n",
    "    for j in range(5):\n",
    "        k = i*5 + j\n",
    "        _ = axs[i,j].imshow(X[k].reshape(8,8))\n",
    "plt.subplots_adjust(wspace=0, hspace=0)"
   ]
  },
  {
   "cell_type": "markdown",
   "metadata": {},
   "source": [
    "**1)** On dispose de données `X`, qui contient des images de 0 et 1 écrits à la main. Plus précisément, pour tout `k`, `X[k]` représente une telle image 2D (8x8 pixels) qui a été aplatie en un vecteur 1D.\n",
    "\n",
    "Utiliser `.shape` pour déterminer le nombre d'images que contient `X`.\n",
    "\n",
    "Prendre une image au hasard, et l'afficher avec la fonction `plt.imshow()`. Afin de l'afficher, vous aurez besoin de temporairement remettre cette image sous forme 2D avec la méthode `.reshape(nb_lignes, nb_colonnes)` . Est-ce l'image d'un 0 ou d'un 1?"
   ]
  },
  {
   "cell_type": "code",
   "execution_count": 52,
   "metadata": {},
   "outputs": [
    {
     "data": {
      "text/plain": [
       "(25, 64)"
      ]
     },
     "execution_count": 52,
     "metadata": {},
     "output_type": "execute_result"
    }
   ],
   "source": [
    "X.shape"
   ]
  },
  {
   "cell_type": "code",
   "execution_count": 53,
   "metadata": {},
   "outputs": [
    {
     "data": {
      "text/plain": [
       "<matplotlib.image.AxesImage at 0x1fdacb6de20>"
      ]
     },
     "execution_count": 53,
     "metadata": {},
     "output_type": "execute_result"
    },
    {
     "data": {
      "image/png": "[encoded data removed]",
      "text/plain": [
       "<Figure size 640x480 with 1 Axes>"
      ]
     },
     "metadata": {},
     "output_type": "display_data"
    }
   ],
   "source": [
    "plt.imshow(X[10].reshape(8,8))"
   ]
  },
  {
   "cell_type": "markdown",
   "metadata": {},
   "source": [
    "**2)** On dispose d'étiquettes `Y` qui encodent la nature des images contenues dans `X`. Plus précisément, `Y[k]` contient `-1` si `X[k]` est l'image d'un 0, ou `+1` si `X[k]` est l'image d'un 1.\n",
    "\n",
    "Reconsidérer l'image affichée à la question précédente, et vérifier que son étiquette correspond à ce que vous avez observé."
   ]
  },
  {
   "cell_type": "code",
   "execution_count": 54,
   "metadata": {},
   "outputs": [
    {
     "data": {
      "text/plain": [
       "np.int64(-1)"
      ]
     },
     "execution_count": 54,
     "metadata": {},
     "output_type": "execute_result"
    }
   ],
   "source": [
    "Y[10]"
   ]
  },
  {
   "cell_type": "markdown",
   "metadata": {
    "tags": []
   },
   "source": [
    "## 2. Phase d'entraînement : Trouver un classifieur avec la méthode SVM"
   ]
  },
  {
   "cell_type": "markdown",
   "metadata": {},
   "source": [
    "**0)** Définir `m` le nombre de données dans notre jeu de données ; et `n` la taille de chacune de ces données."
   ]
  },
  {
   "cell_type": "code",
   "execution_count": 55,
   "metadata": {},
   "outputs": [],
   "source": [
    "m = X.shape[0]\n",
    "n = X.shape[1]"
   ]
  },
  {
   "cell_type": "markdown",
   "metadata": {},
   "source": [
    "**1)** Nous allons trouver un classifieur linéaire avec la méthode SVM, comme au I.\n",
    "\n",
    "Pour ce faire, définir deux vecteurs `e`$= (1, \\dots , 1)^\\top$, `infini`$=(+\\infty, \\dots, +\\infty)^\\top$ de $\\mathbb{R}^m$, ainsi que la matrice $\\Phi \\in \\mathcal{M}_{m,n+1}(\\mathbb{R})$ définie en Section I.2. "
   ]
  },
  {
   "cell_type": "code",
   "execution_count": 56,
   "metadata": {},
   "outputs": [],
   "source": [
    "e = np.ones(m)"
   ]
  },
  {
   "cell_type": "code",
   "execution_count": 57,
   "metadata": {},
   "outputs": [],
   "source": [
    "Phi = np.zeros((m, n+1)) # matrice vide\n",
    "Phi[:, 0:-1] = X # toutes les colonnes sauf une remplies par X\n",
    "Phi[:, -1] = e # dernière colonne remplie par des 1\n",
    "Phi = np.diag(Y)@Phi # on multiplie chaque ligne par y_i"
   ]
  },
  {
   "cell_type": "code",
   "execution_count": 58,
   "metadata": {},
   "outputs": [],
   "source": [
    "infini = e*np.inf"
   ]
  },
  {
   "cell_type": "markdown",
   "metadata": {},
   "source": [
    "**2)** Adapter à partir de la Section **II** la méthode de résolution de votre choix pour obtenir une solution $w=(a,b) \\in \\mathbb{R}^{n+1}$ du problème de SVM (P). Vous appellerez cette solution `w_mnist`"
   ]
  },
  {
   "cell_type": "markdown",
   "metadata": {},
   "source": [
    "**Correction: avec scipy**"
   ]
  },
  {
   "cell_type": "code",
   "execution_count": 59,
   "metadata": {},
   "outputs": [],
   "source": [
    "def objectif(w):\n",
    "    return np.sum(w**2) - w[-1]**2"
   ]
  },
  {
   "cell_type": "code",
   "execution_count": 60,
   "metadata": {},
   "outputs": [],
   "source": [
    "C = LinearConstraint(Phi, e, infini)"
   ]
  },
  {
   "cell_type": "code",
   "execution_count": 61,
   "metadata": {},
   "outputs": [],
   "source": [
    "w_sol_scipy = minimize(fun = objectif, \n",
    "               constraints = C,\n",
    "               x0 = np.zeros(n+1),\n",
    "              ).x"
   ]
  },
  {
   "cell_type": "markdown",
   "metadata": {},
   "source": [
    "**Correction: avec Gradient Proximal sur le Dual**"
   ]
  },
  {
   "cell_type": "code",
   "execution_count": 62,
   "metadata": {},
   "outputs": [],
   "source": [
    "L = np.linalg.norm(Phi,2)**2\n",
    "mu = np.linalg.norm(Phi,-2)**2\n",
    "rho = 2/(L+mu)"
   ]
  },
  {
   "cell_type": "code",
   "execution_count": 63,
   "metadata": {},
   "outputs": [],
   "source": [
    "u_sol_GPD = FB_dual(Phi, Y, rho, nb_iter=10000)"
   ]
  },
  {
   "cell_type": "code",
   "execution_count": 64,
   "metadata": {},
   "outputs": [],
   "source": [
    "w_sol_GPD = -Phi.T @ u_sol_GPD"
   ]
  },
  {
   "cell_type": "markdown",
   "metadata": {},
   "source": [
    "**Correction: avec une méthode primale-duale**"
   ]
  },
  {
   "cell_type": "code",
   "execution_count": 65,
   "metadata": {},
   "outputs": [],
   "source": [
    "w_sol_LV, u_sol_LV = LV(Phi, Y, nb_iter=10000)"
   ]
  },
  {
   "cell_type": "code",
   "execution_count": 66,
   "metadata": {},
   "outputs": [
    {
     "data": {
      "text/plain": [
       "np.float64(0.09728309430513397)"
      ]
     },
     "execution_count": 66,
     "metadata": {},
     "output_type": "execute_result"
    }
   ],
   "source": [
    "# on compare que les méthodes trouvent les même solutions\n",
    "# la solution avec GPD à l'air moins bien\n",
    "la.norm(w_sol_scipy - w_sol_GPD)"
   ]
  },
  {
   "cell_type": "code",
   "execution_count": 67,
   "metadata": {},
   "outputs": [
    {
     "data": {
      "text/plain": [
       "np.float64(0.09728302726385747)"
      ]
     },
     "execution_count": 67,
     "metadata": {},
     "output_type": "execute_result"
    }
   ],
   "source": [
    "la.norm(w_sol_GPD - w_sol_LV)"
   ]
  },
  {
   "cell_type": "code",
   "execution_count": 68,
   "metadata": {},
   "outputs": [
    {
     "data": {
      "text/plain": [
       "np.float64(1.8732037869495822e-07)"
      ]
     },
     "execution_count": 68,
     "metadata": {},
     "output_type": "execute_result"
    }
   ],
   "source": [
    "la.norm(w_sol_LV - w_sol_scipy)"
   ]
  },
  {
   "cell_type": "code",
   "execution_count": 69,
   "metadata": {},
   "outputs": [],
   "source": [
    "# dans la suite on en fixe un\n",
    "w_mnist = w_sol_LV"
   ]
  },
  {
   "cell_type": "markdown",
   "metadata": {},
   "source": [
    "**3)** Ecrire une fonction `classifieur`, qui:\n",
    "- prend en entrée une image aplatie `x`$\\in \\mathbb{R}^n$\n",
    "- prend en entrée un vecteur de paramètres  `w`$=(a,b)\\in \\mathbb{R}^n \\times \\mathbb{R}$\n",
    "- retourne +1 si $\\langle a, x \\rangle + b \\geq 0$, -1 si $\\langle a, x \\rangle + b \\leq 0$"
   ]
  },
  {
   "cell_type": "code",
   "execution_count": 70,
   "metadata": {},
   "outputs": [],
   "source": [
    "def classifieur(x, w):\n",
    "    a = w[:-1]\n",
    "    b = w[-1]\n",
    "    return np.sign( a.T@x + b )"
   ]
  },
  {
   "cell_type": "markdown",
   "metadata": {},
   "source": [
    "**4)** Prendre une image au hasard dans `X`, et comparer sa vraie étiquette avec la prédiction faite par notre nouveau classifieur. Notre prédiction est elle bonne?"
   ]
  },
  {
   "cell_type": "code",
   "execution_count": 71,
   "metadata": {},
   "outputs": [
    {
     "data": {
      "text/plain": [
       "np.int64(-1)"
      ]
     },
     "execution_count": 71,
     "metadata": {},
     "output_type": "execute_result"
    }
   ],
   "source": [
    "Y[10]"
   ]
  },
  {
   "cell_type": "code",
   "execution_count": 72,
   "metadata": {},
   "outputs": [
    {
     "data": {
      "text/plain": [
       "np.float64(-1.0)"
      ]
     },
     "execution_count": 72,
     "metadata": {},
     "output_type": "execute_result"
    }
   ],
   "source": [
    "classifieur(X[10], w_mnist)"
   ]
  },
  {
   "cell_type": "code",
   "execution_count": 73,
   "metadata": {},
   "outputs": [
    {
     "data": {
      "text/plain": [
       "<matplotlib.image.AxesImage at 0x1fdae3ef500>"
      ]
     },
     "execution_count": 73,
     "metadata": {},
     "output_type": "execute_result"
    },
    {
     "data": {
      "image/png": "[encoded data removed]",
      "text/plain": [
       "<Figure size 640x480 with 1 Axes>"
      ]
     },
     "metadata": {},
     "output_type": "display_data"
    }
   ],
   "source": [
    "plt.imshow(X[10].reshape(8,8))"
   ]
  },
  {
   "cell_type": "markdown",
   "metadata": {
    "tags": []
   },
   "source": [
    "## 3. Phase de test : connaitre la vraie performance de notre classifieur"
   ]
  },
  {
   "cell_type": "markdown",
   "metadata": {},
   "source": [
    "On vient de voir que notre classifieur marche bien lorsque on l'applique aux images contenues dans `X`. Or ceci n'est pas très surprenant : le classifieur a été construit à partir de `w_mnist`, la solution d'un problème d'optimisation dépendant des données contenues dans `X,Y`. Pour vraiment déterminer si notre modèle a **appris** quelque chose, il faut le tester sur des données qu'il n'a encore **jamais vues**.\n",
    "\n",
    "On va donc maintenant utiliser les données de test `X_test` et `Y_test` que l'on a pas encore utilisées."
   ]
  },
  {
   "cell_type": "markdown",
   "metadata": {},
   "source": [
    "**1)** Calculer le pourcentage de bonnes réponses données par notre `classifieur`. Autrement dit, vous allez parcourir l'ensemble des données de test, et calculer le pourcentage du nombre de fois que le classifieur donne la bonne prédiction, en la comparant à la vraie étiquette contenue dans `Y_test`. Que pensez-vous du nombre obtenu?"
   ]
  },
  {
   "cell_type": "code",
   "execution_count": 74,
   "metadata": {},
   "outputs": [
    {
     "data": {
      "text/plain": [
       "0.9611940298507463"
      ]
     },
     "execution_count": 74,
     "metadata": {},
     "output_type": "execute_result"
    }
   ],
   "source": [
    "good = 0\n",
    "nb_test = X_test.shape[0]\n",
    "for k in range(nb_test):\n",
    "    if classifieur(X_test[k], w_mnist) == Y_test[k]:\n",
    "        good = good + 1\n",
    "good/nb_test"
   ]
  },
  {
   "cell_type": "code",
   "execution_count": 75,
   "metadata": {},
   "outputs": [
    {
     "data": {
      "text/plain": [
       "335"
      ]
     },
     "execution_count": 75,
     "metadata": {},
     "output_type": "execute_result"
    }
   ],
   "source": [
    "nb_test"
   ]
  },
  {
   "cell_type": "markdown",
   "metadata": {},
   "source": [
    "**2)** Si le taux de bonne réponse n'est pas de 100%, essayez de trouver dans le jeu de données quelles sont les images sur lesquelles le classifieur se trompe."
   ]
  },
  {
   "cell_type": "code",
   "execution_count": 76,
   "metadata": {},
   "outputs": [],
   "source": [
    "prediction = np.array([classifieur(X_test[k], w_mnist) for k in range(nb_test)])"
   ]
  },
  {
   "cell_type": "code",
   "execution_count": 77,
   "metadata": {},
   "outputs": [
    {
     "data": {
      "text/plain": [
       "array([ 36,  42,  74, 121, 191, 195, 210, 211, 218, 227, 228, 282, 332])"
      ]
     },
     "execution_count": 77,
     "metadata": {},
     "output_type": "execute_result"
    }
   ],
   "source": [
    "idx_error = np.where(Y_test != prediction)[0]\n",
    "idx_error"
   ]
  },
  {
   "cell_type": "code",
   "execution_count": 78,
   "metadata": {},
   "outputs": [
    {
     "data": {
      "text/plain": [
       "np.int64(1)"
      ]
     },
     "execution_count": 78,
     "metadata": {},
     "output_type": "execute_result"
    }
   ],
   "source": [
    "n = idx_error[0]\n",
    "Y_test[n]"
   ]
  },
  {
   "cell_type": "code",
   "execution_count": 79,
   "metadata": {},
   "outputs": [
    {
     "data": {
      "text/plain": [
       "np.float64(-1.0)"
      ]
     },
     "execution_count": 79,
     "metadata": {},
     "output_type": "execute_result"
    }
   ],
   "source": [
    "classifieur(X_test[n,:], w_mnist)"
   ]
  },
  {
   "cell_type": "code",
   "execution_count": 80,
   "metadata": {},
   "outputs": [
    {
     "data": {
      "image/png": "[encoded data removed]",
      "text/plain": [
       "<Figure size 640x480 with 1 Axes>"
      ]
     },
     "metadata": {},
     "output_type": "display_data"
    }
   ],
   "source": [
    "_ = plt.imshow(X_test[n].reshape(8,8))"
   ]
  },
  {
   "cell_type": "markdown",
   "metadata": {},
   "source": [
    "**3)** Si vous retournez au début de la section **III.**, vous pouvez voir qu'au moment de l'importation nous avons demandé à travailler avec les `classes` 0 et 1.\n",
    "\n",
    "Remplacez ces chiffres par deux autres chiffres de votre choix, et relancez votre code afin de déterminer le taux de bonne réponse du classifieur. Essayez de prendre des chiffres difficiles à classer!\n",
    "\n",
    "**NB:** Vous ne serez pas notés sur cette question, qui vous laisse libre de vous amuser. Néanmois je vous conseille de ne pas l'ignorer, car vous devrez de toute façon faire ce genre de choses dans les questions suivantes."
   ]
  },
  {
   "cell_type": "markdown",
   "metadata": {
    "tags": []
   },
   "source": [
    "## 4. Aller plus loin : Classification multiple"
   ]
  },
  {
   "cell_type": "markdown",
   "metadata": {},
   "source": [
    "### a. Discussion"
   ]
  },
  {
   "cell_type": "markdown",
   "metadata": {
    "tags": []
   },
   "source": [
    "On a vu comment classer des données à deux étiquettes. Mais en pratique il y a souvent un plus grand nombre de classes : par exemple MNIST peut contenir jusqu'à 10 classes: les chiffres de 0 à 9! Un tel classifieur vous est par exemple mis à disposition sur [ce site](https://mco-mnist-draw-rwpxka3zaa-ue.a.run.app/), qui vous permet de dessiner en ligne un chiffre et vous fournira en temps réel une estimation de la probabilité d'appartenance à une classe de chiffre.\n",
    "\n",
    "Je vous propose dans cette section de construire un tel classifieur. Notre stratégie va consister à réunir plusieurs classifieurs à deux classes (que vous avez appris à construire dans la section précédente) pour construire un classifieur à 10 classes. \n",
    "Plus précisément notre stratégie sera:\n",
    "\n",
    "- Couper le jeu de données en deux classes : les 0 et le reste (1, ..., 9). On produit alors un classifieur qui sera capable de savoir si une image est un zéro, ou non.\n",
    "- On refait la même chose en isolant cette fois 1 versus le reste (0,2, ..., 9). Et ainsi de suite. Ce qui nous donnera 10 classifieurs, chacun répondant à la question \"est-ce que cette image est un 0? un 1? etc.\n",
    "- Etant donné une nouvelle image, on la passe dans les 10 classifieurs, et en fonction des 10 prédictions on prend une décision.\n",
    "\n",
    "\n"
   ]
  },
  {
   "cell_type": "markdown",
   "metadata": {
    "tags": []
   },
   "source": [
    "### b. Manipulation des données et construction du premier classifieur"
   ]
  },
  {
   "cell_type": "code",
   "execution_count": 81,
   "metadata": {},
   "outputs": [],
   "source": [
    "import numpy as np\n",
    "import matplotlib.pyplot as plt\n",
    "import sklearn.datasets\n",
    "import sklearn.model_selection\n",
    "from scipy.optimize import LinearConstraint, minimize"
   ]
  },
  {
   "cell_type": "code",
   "execution_count": 82,
   "metadata": {},
   "outputs": [],
   "source": [
    "plt.rcParams['xtick.bottom'] = True\n",
    "plt.rcParams['ytick.left'] = True\n",
    "plt.rcParams['xtick.labelbottom'] = True\n",
    "plt.rcParams['ytick.labelleft'] = True\n",
    "plt.rcParams['image.cmap'] = 'gray_r'"
   ]
  },
  {
   "cell_type": "code",
   "execution_count": 83,
   "metadata": {},
   "outputs": [],
   "source": [
    "digits = sklearn.datasets.load_digits() # Importe un jeu de données à classer (10 classes)\n",
    "digits.data = digits.data*1/np.max(digits.data) # normalise : coeffs dans [0,1]\n",
    "X, X_test, Y, Y_test = sklearn.model_selection.train_test_split( # On coupe le jeu de données en deux\n",
    "                        digits.data, digits.target, train_size=0.25, shuffle=True)\n",
    "etiquettes_original = Y"
   ]
  },
  {
   "cell_type": "markdown",
   "metadata": {},
   "source": [
    "**1)** Déterminer `m` le nombre de données contenues dans `X`, et `n` la dimension de ces données."
   ]
  },
  {
   "cell_type": "code",
   "execution_count": 84,
   "metadata": {},
   "outputs": [],
   "source": [
    "m = X.shape[0]\n",
    "n = X.shape[1]"
   ]
  },
  {
   "cell_type": "markdown",
   "metadata": {},
   "source": [
    "**2)** Vérifier que `Y` contient bien des étiquettes allant de 0 à 9. Dans le but de classer les 0 vs. le reste, créez un nouveau vecteur d'étiquettes `Y_temp` qui vaut +1 pour les 0, et -1 pour le reste. Faites bien attention à ne pas modifier le `Y` original!"
   ]
  },
  {
   "cell_type": "code",
   "execution_count": 85,
   "metadata": {},
   "outputs": [],
   "source": [
    "# 0 vs le reste\n",
    "cible = 0\n",
    "Y_temp = np.where(etiquettes_original==cible, 1, -1) # Transforme 'cible' en +1, le reste en -1"
   ]
  },
  {
   "cell_type": "markdown",
   "metadata": {},
   "source": [
    "**3)** En vous inspirant de ce que vous avez fait à la section précédente:\n",
    "\n",
    "- définissez le problème de SVM associé au problème de classifier 0 vs. le reste\n",
    "- résolvez-le, afin d'obtenir `w` un vecteur de paramètres définissant un hyperplan qui sépare les 0 des autres chiffres"
   ]
  },
  {
   "cell_type": "code",
   "execution_count": 86,
   "metadata": {},
   "outputs": [],
   "source": [
    "e = np.ones(m)\n",
    "infini = e*np.inf\n",
    "\n",
    "Phi = np.zeros((m, n+1)) # matrice vide\n",
    "Phi[:, 0:-1] = X # toutes les colonnes sauf une remplies par X\n",
    "Phi[:, -1] = e # dernière colonne remplie par des 1\n",
    "Phi = np.diag(Y_temp)@Phi # on multiplie chaque ligne par y_i"
   ]
  },
  {
   "cell_type": "code",
   "execution_count": 87,
   "metadata": {},
   "outputs": [],
   "source": [
    "w, _ = LV(Phi, Y_temp, nb_iter=1000)"
   ]
  },
  {
   "cell_type": "markdown",
   "metadata": {},
   "source": [
    "**4)** Prenez quelques examples dans `X` et vérifiez que `w` définit un hyperplan qui sépare bien les 0 du reste (cf. section précédente). Rappelez-vous que les vraies étiquettes sont contenues dans `Y`."
   ]
  },
  {
   "cell_type": "code",
   "execution_count": 88,
   "metadata": {},
   "outputs": [],
   "source": [
    "a = w[:-1]\n",
    "b = w[-1]"
   ]
  },
  {
   "cell_type": "code",
   "execution_count": 89,
   "metadata": {},
   "outputs": [
    {
     "data": {
      "text/plain": [
       "np.int64(1)"
      ]
     },
     "execution_count": 89,
     "metadata": {},
     "output_type": "execute_result"
    }
   ],
   "source": [
    "x = X[12]\n",
    "Y[12]"
   ]
  },
  {
   "cell_type": "code",
   "execution_count": 90,
   "metadata": {},
   "outputs": [
    {
     "data": {
      "text/plain": [
       "np.float64(-1.0)"
      ]
     },
     "execution_count": 90,
     "metadata": {},
     "output_type": "execute_result"
    }
   ],
   "source": [
    "np.sign(a.T@x + b)"
   ]
  },
  {
   "cell_type": "markdown",
   "metadata": {
    "tags": []
   },
   "source": [
    "### c. Construction d'un classifieur général"
   ]
  },
  {
   "cell_type": "markdown",
   "metadata": {},
   "source": [
    "**1)** Ici vous devrez reproduire ce que vous venez de faire :\n",
    "\n",
    "- Pour chaque chiffre 'cible' entre 0 et 9:\n",
    "  - Définir un vecteur d'étiquettes décrivant un problème de classification 'cible' vs. le reste\n",
    "  - Définir le problème SVM associé et le résoudre, ce qui vous donnera un vecteurs de paramètres w\n",
    "  - Ranger chacun de ces vecteurs $w \\in \\mathbb{R}^{n+1}$ comme ligne d'une matrice $W \\in \\mathcal{M}_{10, n+1}(\\mathbb{R})$"
   ]
  },
  {
   "cell_type": "code",
   "execution_count": 91,
   "metadata": {},
   "outputs": [],
   "source": [
    "W = np.zeros((10, n+1))\n",
    "for cible in range(10):\n",
    "    Y_temp = np.where(etiquettes_original==cible, 1, -1) # Transforme 'cible' en +1, le reste en -1\n",
    "    e = np.ones(m)\n",
    "    infini = e*np.inf\n",
    "    Phi = np.zeros((m, n+1)) # matrice vide\n",
    "    Phi[:, 0:-1] = X # toutes les colonnes sauf une remplies par X\n",
    "    Phi[:, -1] = e # dernière colonne remplie par des 1\n",
    "    Phi = np.diag(Y_temp)@Phi # on multiplie chaque ligne par y_i\n",
    "    w, _ = LV(Phi, Y_temp, nb_iter=1000)\n",
    "    W[cible, :] = w"
   ]
  },
  {
   "cell_type": "markdown",
   "metadata": {},
   "source": [
    "**2)** Vérifiez que la matrice `W` obtenue donne de bons résultats. Pour cela, pous pourrez prendre une image quelconque, et la passer dans le classifieur binaire pour chaque ligne de `W` : il devrait renvoyer +1 seulement pour le bon indice."
   ]
  },
  {
   "cell_type": "code",
   "execution_count": 92,
   "metadata": {},
   "outputs": [
    {
     "data": {
      "text/plain": [
       "np.int64(1)"
      ]
     },
     "execution_count": 92,
     "metadata": {},
     "output_type": "execute_result"
    }
   ],
   "source": [
    "Y[12]"
   ]
  },
  {
   "cell_type": "code",
   "execution_count": 93,
   "metadata": {},
   "outputs": [
    {
     "data": {
      "text/plain": [
       "[np.float64(-1.0),\n",
       " np.float64(1.0),\n",
       " np.float64(-1.0),\n",
       " np.float64(-1.0),\n",
       " np.float64(-1.0),\n",
       " np.float64(-1.0),\n",
       " np.float64(-1.0),\n",
       " np.float64(-1.0),\n",
       " np.float64(-1.0),\n",
       " np.float64(-1.0)]"
      ]
     },
     "execution_count": 93,
     "metadata": {},
     "output_type": "execute_result"
    }
   ],
   "source": [
    "[ classifieur(X[12], W[i,:]) for i in range(10) ]"
   ]
  },
  {
   "cell_type": "markdown",
   "metadata": {},
   "source": [
    "**3)** Définir une fonction `classifieur_general` qui:\n",
    "\n",
    "- prend en entrée une donnée $x$ et une matrice de paramètres  $W \\in \\mathcal{M}_{10, n+1}(\\mathbb{R})$\n",
    "- pour chaque chiffre `i` entre 0 et 9, utilise le classifieur binaire induit par `W[i,:]` pour déterminer si $x$ est égal à `i` ou non\n",
    "- renvoie `i` si $x$ est égal à `i`\n",
    "- pensez à faire en sorte que la fonction renvoie toujours quelque chose\n",
    "\n",
    "Vous testerez sur un exemple que cela marche bien."
   ]
  },
  {
   "cell_type": "code",
   "execution_count": 94,
   "metadata": {},
   "outputs": [],
   "source": [
    "def classifieur_general(x, W):\n",
    "    A = W[:, :-1]\n",
    "    B = W[:, -1]\n",
    "    evaluation = A@x + B\n",
    "    class_vs = np.sign(evaluation) # vecteur de -1 et +1\n",
    "    return np.argmax(class_vs)"
   ]
  },
  {
   "cell_type": "code",
   "execution_count": 95,
   "metadata": {},
   "outputs": [
    {
     "data": {
      "text/plain": [
       "np.int64(1)"
      ]
     },
     "execution_count": 95,
     "metadata": {},
     "output_type": "execute_result"
    }
   ],
   "source": [
    "Y[12]"
   ]
  },
  {
   "cell_type": "code",
   "execution_count": 96,
   "metadata": {},
   "outputs": [
    {
     "data": {
      "text/plain": [
       "np.int64(1)"
      ]
     },
     "execution_count": 96,
     "metadata": {},
     "output_type": "execute_result"
    }
   ],
   "source": [
    "classifieur_general(X[12], W)"
   ]
  },
  {
   "cell_type": "markdown",
   "metadata": {},
   "source": [
    "**4)** Appliquez votre `classifieur_general` aux données de test, comme au **II.3.1)**. Quel est le pourcentage de bonnes réponses de votre classifieur? Que pensez-vous du résultat?"
   ]
  },
  {
   "cell_type": "code",
   "execution_count": 97,
   "metadata": {},
   "outputs": [
    {
     "data": {
      "text/plain": [
       "0.8694362017804155"
      ]
     },
     "execution_count": 97,
     "metadata": {},
     "output_type": "execute_result"
    }
   ],
   "source": [
    "good = 0\n",
    "nb_test = X_test.shape[0]\n",
    "for k in range(nb_test):\n",
    "    if classifieur_general(X_test[k], W) == Y_test[k]:\n",
    "        good = good + 1\n",
    "good/nb_test"
   ]
  },
  {
   "cell_type": "code",
   "execution_count": 98,
   "metadata": {},
   "outputs": [
    {
     "data": {
      "text/plain": [
       "0.9376391982182628"
      ]
     },
     "execution_count": 98,
     "metadata": {},
     "output_type": "execute_result"
    }
   ],
   "source": [
    "# est-ce que le classifieur marche bien sur les données d'entraînement?\n",
    "good = 0\n",
    "nb_test = X.shape[0]\n",
    "for k in range(nb_test):\n",
    "    if classifieur_general(X[k], W) == Y[k]:\n",
    "        good = good + 1\n",
    "good/nb_test"
   ]
  },
  {
   "cell_type": "markdown",
   "metadata": {
    "tags": []
   },
   "source": [
    "### d. Construction d'un classifieur général amélioré\n",
    "\n"
   ]
  },
  {
   "cell_type": "markdown",
   "metadata": {},
   "source": [
    "Le classifieur précédent souffre de quelques défauts.\n",
    "Par exemple, si une image est classée comme appartenant à deux classes, comment choisir laquelle des deux est la meilleure?\n",
    "Et si une image apparait classée comme appartenant à aucune classe, comment choisir quelle classe est la moins mauvaise?\n",
    "On donc besoin que les classifieurs binaires renvoient un peu plus que une réponse $\\pm 1$ pour chaque chiffre : il nous faut également un indice de confiance, une *probabilité* que la réponse $\\pm 1$ soit correcte.\n",
    "\n",
    "Par exemple, imaginons que le classifieur biniaire \"0 vs. le reste\" nous dise que $\\mathbb{P}(x=0) = 0.4$. Dans ce cas on pourrait conclure que $x$ n'est pas un 0, puisque $\\mathbb{P}(x\\neq 0) = 0.6$. Mais si tous les autres classifieurs binaires nous disent également que $\\mathbb{P}(x=k) = 0.01$, alors on pourrait se dire que 0 est la moins mauvaise réponse.\n",
    "\n",
    "Pour notre problème, cette probabilité va être liée à la distance entre la donnée $x$ et l'hyperplan séparateur $H_w$ : plus la donnée est proche de l'hyperplan, et moins on aura confiance en la prédiction, donc plus basse sera la probabilité."
   ]
  },
  {
   "cell_type": "markdown",
   "metadata": {},
   "source": [
    "**1)** Définir une fonction `classifieur_general2` qui reprend le principe de `classifieur_general`. Cette fois-ci, l'indice `i` renvoyé sera celui qui maximise la probabilité $p_i$, où $p \\in \\mathbb{R}^{10}$ est défini par :\n",
    "\n",
    "$$ p_i := \\frac{e^{v_i}}{\\sum\\limits_{j=1}^p e^{v_j}},\n",
    "\\quad\n",
    "v_i := \\langle a^i, x \\rangle + b^i\n",
    "$$\n",
    "avec `W[i,:]`$=(a^i, b^i)$. \n",
    "Vous testerez sur un exemple que votre fonction marche bien."
   ]
  },
  {
   "cell_type": "code",
   "execution_count": 99,
   "metadata": {},
   "outputs": [],
   "source": [
    "def softmax(v):\n",
    "    s = np.sum(np.exp(v))\n",
    "    return np.exp(v)/s"
   ]
  },
  {
   "cell_type": "code",
   "execution_count": 100,
   "metadata": {},
   "outputs": [],
   "source": [
    "def classifieur_general2(x, W):\n",
    "    A = W[:, :-1]\n",
    "    B = W[:, -1]\n",
    "    evaluation = A@x + B\n",
    "    confiance = softmax(evaluation)\n",
    "    etiquette = np.argmax(confiance)\n",
    "    return etiquette"
   ]
  },
  {
   "cell_type": "code",
   "execution_count": 101,
   "metadata": {},
   "outputs": [
    {
     "data": {
      "text/plain": [
       "np.int64(1)"
      ]
     },
     "execution_count": 101,
     "metadata": {},
     "output_type": "execute_result"
    }
   ],
   "source": [
    "classifieur_general2(X[12], W)"
   ]
  },
  {
   "cell_type": "markdown",
   "metadata": {},
   "source": [
    "**2)** Estimer la performance de votre nouveau classifieur sur les données de test. Comparer avec le classifieur précédent. "
   ]
  },
  {
   "cell_type": "code",
   "execution_count": 102,
   "metadata": {},
   "outputs": [
    {
     "data": {
      "text/plain": [
       "0.9413946587537092"
      ]
     },
     "execution_count": 102,
     "metadata": {},
     "output_type": "execute_result"
    }
   ],
   "source": [
    "good = 0\n",
    "nb_test = X_test.shape[0]\n",
    "for k in range(nb_test):\n",
    "    if classifieur_general2(X_test[k], W) == Y_test[k]:\n",
    "        good = good + 1\n",
    "good/nb_test"
   ]
  },
  {
   "cell_type": "markdown",
   "metadata": {},
   "source": [
    "**Pour aller plus loin:** \n",
    "\n",
    "- Rien ne vous empêche de dessiner vos propres chiffres, et de tester si votre classifieur le reconnait.. Pour cela il vous suffit de produire une image carrée, de la redimensionner en image 8x8, puis de l'importer dans python.\n",
    "- Il existe d'autres façons de faire de la classification multiclasse. C'est simplement et rapidement expliqué dans [ce cours en ligne](https://openclassrooms.com/fr/courses/4444646-entrainez-un-modele-predictif-lineaire/4507846-classifiez-vos-donnees-en-plus-de-deux-classes) de Chloé-Agathe Azencott."
   ]
  },
  {
   "cell_type": "markdown",
   "metadata": {},
   "source": [
    "**Notes**\n",
    "\n",
    "Ressources utilisées pour le chargment et utilisation de MNIST:\n",
    "\n",
    "- https://dmkothari.github.io/Machine-Learning-Projects/SVM_with_MNIST.html\n",
    "- https://towardsdatascience.com/support-vector-machine-mnist-digit-classification-with-python-including-my-hand-written-digits-83d6eca7004a\n",
    "- https://scikit-learn.org/stable/auto_examples/classification/plot_digits_classification.html"
   ]
  },
  {
   "cell_type": "markdown",
   "metadata": {},
   "source": [
    "**Avant de partir:** pensez à bien relire les instructions en début de devoir!"
   ]
  },
  {
   "cell_type": "code",
   "execution_count": null,
   "metadata": {},
   "outputs": [],
   "source": []
  },
  {
   "cell_type": "code",
   "execution_count": null,
   "metadata": {},
   "outputs": [],
   "source": []
  }
 ],
 "metadata": {
  "kernelspec": {
   "display_name": ".venv",
   "language": "python",
   "name": "python3"
  },
  "language_info": {
   "codemirror_mode": {
    "name": "ipython",
    "version": 3
   },
   "file_extension": ".py",
   "mimetype": "text/x-python",
   "name": "python",
   "nbconvert_exporter": "python",
   "pygments_lexer": "ipython3",
   "version": "3.12.7"
  },
  "toc-autonumbering": false
 },
 "nbformat": 4,
 "nbformat_minor": 4
}
